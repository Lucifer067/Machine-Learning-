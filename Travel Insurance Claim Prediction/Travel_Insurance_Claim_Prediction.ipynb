{
  "nbformat": 4,
  "nbformat_minor": 0,
  "metadata": {
    "colab": {
      "name": "Travel Insurance Claim Prediction.ipynb",
      "provenance": []
    },
    "kernelspec": {
      "name": "python3",
      "display_name": "Python 3"
    }
  },
  "cells": [
    {
      "cell_type": "markdown",
      "metadata": {
        "id": "PugfGtLa8uMG"
      },
      "source": [
        "# Importing libraries and EDA"
      ]
    },
    {
      "cell_type": "code",
      "metadata": {
        "id": "_GZCDtYp0xnc"
      },
      "source": [
        "#Importing the required libraries\r\n",
        "import pandas as pd\r\n",
        "import numpy as np\r\n",
        "import matplotlib.pyplot as plt\r\n",
        "import warnings\r\n",
        "warnings.filterwarnings(\"ignore\", category=FutureWarning)"
      ],
      "execution_count": 1,
      "outputs": []
    },
    {
      "cell_type": "code",
      "metadata": {
        "colab": {
          "base_uri": "https://localhost:8080/",
          "height": 0
        },
        "id": "7dLLWyFi1Zb0",
        "outputId": "311bc38e-8ea4-4beb-b6b6-5b187120fe79"
      },
      "source": [
        "# Loading the dataset into pandas Dataframe\r\n",
        "insurance_data  = pd.read_csv(\"https://raw.githubusercontent.com/dphi-official/Datasets/master/travel_insurance/Training_set_label.csv\" )\r\n",
        "test_data = pd.read_csv('https://raw.githubusercontent.com/dphi-official/Datasets/master/travel_insurance/Testing_set_label.csv')\r\n",
        "\r\n",
        "# Checking first 5 rows of the dataframe\r\n",
        "insurance_data.head()"
      ],
      "execution_count": 2,
      "outputs": [
        {
          "output_type": "execute_result",
          "data": {
            "text/html": [
              "<div>\n",
              "<style scoped>\n",
              "    .dataframe tbody tr th:only-of-type {\n",
              "        vertical-align: middle;\n",
              "    }\n",
              "\n",
              "    .dataframe tbody tr th {\n",
              "        vertical-align: top;\n",
              "    }\n",
              "\n",
              "    .dataframe thead th {\n",
              "        text-align: right;\n",
              "    }\n",
              "</style>\n",
              "<table border=\"1\" class=\"dataframe\">\n",
              "  <thead>\n",
              "    <tr style=\"text-align: right;\">\n",
              "      <th></th>\n",
              "      <th>Agency</th>\n",
              "      <th>Agency Type</th>\n",
              "      <th>Distribution Channel</th>\n",
              "      <th>Product Name</th>\n",
              "      <th>Duration</th>\n",
              "      <th>Destination</th>\n",
              "      <th>Net Sales</th>\n",
              "      <th>Commision (in value)</th>\n",
              "      <th>Gender</th>\n",
              "      <th>Age</th>\n",
              "      <th>Claim</th>\n",
              "    </tr>\n",
              "  </thead>\n",
              "  <tbody>\n",
              "    <tr>\n",
              "      <th>0</th>\n",
              "      <td>CWT</td>\n",
              "      <td>Travel Agency</td>\n",
              "      <td>Online</td>\n",
              "      <td>Rental Vehicle Excess Insurance</td>\n",
              "      <td>61</td>\n",
              "      <td>UNITED KINGDOM</td>\n",
              "      <td>19.8</td>\n",
              "      <td>11.88</td>\n",
              "      <td>NaN</td>\n",
              "      <td>29</td>\n",
              "      <td>0</td>\n",
              "    </tr>\n",
              "    <tr>\n",
              "      <th>1</th>\n",
              "      <td>EPX</td>\n",
              "      <td>Travel Agency</td>\n",
              "      <td>Online</td>\n",
              "      <td>Cancellation Plan</td>\n",
              "      <td>93</td>\n",
              "      <td>NEW ZEALAND</td>\n",
              "      <td>63.0</td>\n",
              "      <td>0.00</td>\n",
              "      <td>NaN</td>\n",
              "      <td>36</td>\n",
              "      <td>0</td>\n",
              "    </tr>\n",
              "    <tr>\n",
              "      <th>2</th>\n",
              "      <td>EPX</td>\n",
              "      <td>Travel Agency</td>\n",
              "      <td>Online</td>\n",
              "      <td>2 way Comprehensive Plan</td>\n",
              "      <td>22</td>\n",
              "      <td>UNITED STATES</td>\n",
              "      <td>22.0</td>\n",
              "      <td>0.00</td>\n",
              "      <td>NaN</td>\n",
              "      <td>25</td>\n",
              "      <td>0</td>\n",
              "    </tr>\n",
              "    <tr>\n",
              "      <th>3</th>\n",
              "      <td>C2B</td>\n",
              "      <td>Airlines</td>\n",
              "      <td>Online</td>\n",
              "      <td>Silver Plan</td>\n",
              "      <td>14</td>\n",
              "      <td>SINGAPORE</td>\n",
              "      <td>54.5</td>\n",
              "      <td>13.63</td>\n",
              "      <td>M</td>\n",
              "      <td>24</td>\n",
              "      <td>0</td>\n",
              "    </tr>\n",
              "    <tr>\n",
              "      <th>4</th>\n",
              "      <td>EPX</td>\n",
              "      <td>Travel Agency</td>\n",
              "      <td>Online</td>\n",
              "      <td>Cancellation Plan</td>\n",
              "      <td>90</td>\n",
              "      <td>VIET NAM</td>\n",
              "      <td>10.0</td>\n",
              "      <td>0.00</td>\n",
              "      <td>NaN</td>\n",
              "      <td>23</td>\n",
              "      <td>0</td>\n",
              "    </tr>\n",
              "  </tbody>\n",
              "</table>\n",
              "</div>"
            ],
            "text/plain": [
              "  Agency    Agency Type Distribution Channel  ... Gender  Age Claim\n",
              "0    CWT  Travel Agency               Online  ...    NaN   29     0\n",
              "1    EPX  Travel Agency               Online  ...    NaN   36     0\n",
              "2    EPX  Travel Agency               Online  ...    NaN   25     0\n",
              "3    C2B       Airlines               Online  ...      M   24     0\n",
              "4    EPX  Travel Agency               Online  ...    NaN   23     0\n",
              "\n",
              "[5 rows x 11 columns]"
            ]
          },
          "metadata": {
            "tags": []
          },
          "execution_count": 2
        }
      ]
    },
    {
      "cell_type": "code",
      "metadata": {
        "colab": {
          "base_uri": "https://localhost:8080/",
          "height": 0
        },
        "id": "1JLV_CP34ksa",
        "outputId": "83a1c5b9-8cb8-47e3-9b3c-4ee71486b8ff"
      },
      "source": [
        "# Checking statistics of the data\r\n",
        "insurance_data.describe().transpose()"
      ],
      "execution_count": 3,
      "outputs": [
        {
          "output_type": "execute_result",
          "data": {
            "text/html": [
              "<div>\n",
              "<style scoped>\n",
              "    .dataframe tbody tr th:only-of-type {\n",
              "        vertical-align: middle;\n",
              "    }\n",
              "\n",
              "    .dataframe tbody tr th {\n",
              "        vertical-align: top;\n",
              "    }\n",
              "\n",
              "    .dataframe thead th {\n",
              "        text-align: right;\n",
              "    }\n",
              "</style>\n",
              "<table border=\"1\" class=\"dataframe\">\n",
              "  <thead>\n",
              "    <tr style=\"text-align: right;\">\n",
              "      <th></th>\n",
              "      <th>count</th>\n",
              "      <th>mean</th>\n",
              "      <th>std</th>\n",
              "      <th>min</th>\n",
              "      <th>25%</th>\n",
              "      <th>50%</th>\n",
              "      <th>75%</th>\n",
              "      <th>max</th>\n",
              "    </tr>\n",
              "  </thead>\n",
              "  <tbody>\n",
              "    <tr>\n",
              "      <th>Duration</th>\n",
              "      <td>48260.0</td>\n",
              "      <td>49.546602</td>\n",
              "      <td>104.828147</td>\n",
              "      <td>-2.0</td>\n",
              "      <td>9.0</td>\n",
              "      <td>22.0</td>\n",
              "      <td>53.00</td>\n",
              "      <td>4881.00</td>\n",
              "    </tr>\n",
              "    <tr>\n",
              "      <th>Net Sales</th>\n",
              "      <td>48260.0</td>\n",
              "      <td>40.747647</td>\n",
              "      <td>48.823217</td>\n",
              "      <td>-389.0</td>\n",
              "      <td>18.0</td>\n",
              "      <td>27.0</td>\n",
              "      <td>48.00</td>\n",
              "      <td>666.00</td>\n",
              "    </tr>\n",
              "    <tr>\n",
              "      <th>Commision (in value)</th>\n",
              "      <td>48260.0</td>\n",
              "      <td>9.811735</td>\n",
              "      <td>19.695339</td>\n",
              "      <td>0.0</td>\n",
              "      <td>0.0</td>\n",
              "      <td>0.0</td>\n",
              "      <td>11.63</td>\n",
              "      <td>262.76</td>\n",
              "    </tr>\n",
              "    <tr>\n",
              "      <th>Age</th>\n",
              "      <td>48260.0</td>\n",
              "      <td>39.927269</td>\n",
              "      <td>14.027329</td>\n",
              "      <td>0.0</td>\n",
              "      <td>35.0</td>\n",
              "      <td>36.0</td>\n",
              "      <td>43.00</td>\n",
              "      <td>118.00</td>\n",
              "    </tr>\n",
              "    <tr>\n",
              "      <th>Claim</th>\n",
              "      <td>48260.0</td>\n",
              "      <td>0.014671</td>\n",
              "      <td>0.120231</td>\n",
              "      <td>0.0</td>\n",
              "      <td>0.0</td>\n",
              "      <td>0.0</td>\n",
              "      <td>0.00</td>\n",
              "      <td>1.00</td>\n",
              "    </tr>\n",
              "  </tbody>\n",
              "</table>\n",
              "</div>"
            ],
            "text/plain": [
              "                        count       mean         std  ...   50%    75%      max\n",
              "Duration              48260.0  49.546602  104.828147  ...  22.0  53.00  4881.00\n",
              "Net Sales             48260.0  40.747647   48.823217  ...  27.0  48.00   666.00\n",
              "Commision (in value)  48260.0   9.811735   19.695339  ...   0.0  11.63   262.76\n",
              "Age                   48260.0  39.927269   14.027329  ...  36.0  43.00   118.00\n",
              "Claim                 48260.0   0.014671    0.120231  ...   0.0   0.00     1.00\n",
              "\n",
              "[5 rows x 8 columns]"
            ]
          },
          "metadata": {
            "tags": []
          },
          "execution_count": 3
        }
      ]
    },
    {
      "cell_type": "code",
      "metadata": {
        "colab": {
          "base_uri": "https://localhost:8080/"
        },
        "id": "obyD-lBg4pS8",
        "outputId": "f3593b11-89d7-4677-f5e5-9eb7874da58a"
      },
      "source": [
        "#Gaining information on the dataset\r\n",
        "insurance_data.info()"
      ],
      "execution_count": 4,
      "outputs": [
        {
          "output_type": "stream",
          "text": [
            "<class 'pandas.core.frame.DataFrame'>\n",
            "RangeIndex: 48260 entries, 0 to 48259\n",
            "Data columns (total 11 columns):\n",
            " #   Column                Non-Null Count  Dtype  \n",
            "---  ------                --------------  -----  \n",
            " 0   Agency                48260 non-null  object \n",
            " 1   Agency Type           48260 non-null  object \n",
            " 2   Distribution Channel  48260 non-null  object \n",
            " 3   Product Name          48260 non-null  object \n",
            " 4   Duration              48260 non-null  int64  \n",
            " 5   Destination           48260 non-null  object \n",
            " 6   Net Sales             48260 non-null  float64\n",
            " 7   Commision (in value)  48260 non-null  float64\n",
            " 8   Gender                13899 non-null  object \n",
            " 9   Age                   48260 non-null  int64  \n",
            " 10  Claim                 48260 non-null  int64  \n",
            "dtypes: float64(2), int64(3), object(6)\n",
            "memory usage: 4.1+ MB\n"
          ],
          "name": "stdout"
        }
      ]
    },
    {
      "cell_type": "code",
      "metadata": {
        "colab": {
          "base_uri": "https://localhost:8080/",
          "height": 0
        },
        "id": "uNIBC6Kh40bR",
        "outputId": "b9d31f76-f3c1-4061-9149-918ef2bf0d1a"
      },
      "source": [
        "#Checking all the unique values and their counts in these ordinal columns of the dataset \r\n",
        "\r\n",
        "display(insurance_data['Agency'].value_counts())\r\n",
        "print('\\n')\r\n",
        "display(insurance_data['Agency Type'].value_counts())\r\n",
        "print('\\n')\r\n",
        "display(insurance_data['Distribution Channel'].value_counts())\r\n",
        "print('\\n')\r\n",
        "display(insurance_data['Product Name'].value_counts())\r\n",
        "print('\\n')\r\n",
        "insurance_data['Destination'].value_counts()"
      ],
      "execution_count": 5,
      "outputs": [
        {
          "output_type": "display_data",
          "data": {
            "text/plain": [
              "EPX    26712\n",
              "CWT     6572\n",
              "C2B     6280\n",
              "JZI     4851\n",
              "SSI      807\n",
              "JWT      580\n",
              "RAB      577\n",
              "LWC      532\n",
              "TST      389\n",
              "KML      293\n",
              "ART      248\n",
              "CCR      155\n",
              "TTW       72\n",
              "CBH       70\n",
              "CSR       66\n",
              "ADM       56\n",
              "Name: Agency, dtype: int64"
            ]
          },
          "metadata": {
            "tags": []
          }
        },
        {
          "output_type": "stream",
          "text": [
            "\n",
            "\n"
          ],
          "name": "stdout"
        },
        {
          "output_type": "display_data",
          "data": {
            "text/plain": [
              "Travel Agency    34917\n",
              "Airlines         13343\n",
              "Name: Agency Type, dtype: int64"
            ]
          },
          "metadata": {
            "tags": []
          }
        },
        {
          "output_type": "stream",
          "text": [
            "\n",
            "\n"
          ],
          "name": "stdout"
        },
        {
          "output_type": "display_data",
          "data": {
            "text/plain": [
              "Online     47434\n",
              "Offline      826\n",
              "Name: Distribution Channel, dtype: int64"
            ]
          },
          "metadata": {
            "tags": []
          }
        },
        {
          "output_type": "stream",
          "text": [
            "\n",
            "\n"
          ],
          "name": "stdout"
        },
        {
          "output_type": "display_data",
          "data": {
            "text/plain": [
              "Cancellation Plan                       14202\n",
              "2 way Comprehensive Plan                10000\n",
              "Rental Vehicle Excess Insurance          6572\n",
              "Basic Plan                               4209\n",
              "Bronze Plan                              3057\n",
              "1 way Comprehensive Plan                 2510\n",
              "Value Plan                               2082\n",
              "Silver Plan                              1705\n",
              "Annual Silver Plan                       1088\n",
              "Ticket Protector                          807\n",
              "Travel Cruise Protect                     388\n",
              "Comprehensive Plan                        279\n",
              "Gold Plan                                 279\n",
              "24 Protect                                183\n",
              "Single Trip Travel Protect Gold           156\n",
              "Annual Gold Plan                          151\n",
              "Single Trip Travel Protect Silver         146\n",
              "Premier Plan                              143\n",
              "Annual Travel Protect Gold                 77\n",
              "Annual Travel Protect Silver               64\n",
              "Individual Comprehensive Plan              53\n",
              "Single Trip Travel Protect Platinum        53\n",
              "Annual Travel Protect Platinum             36\n",
              "Spouse or Parents Comprehensive Plan       12\n",
              "Child Comprehensive Plan                    7\n",
              "Travel Cruise Protect Family                1\n",
              "Name: Product Name, dtype: int64"
            ]
          },
          "metadata": {
            "tags": []
          }
        },
        {
          "output_type": "stream",
          "text": [
            "\n",
            "\n"
          ],
          "name": "stdout"
        },
        {
          "output_type": "execute_result",
          "data": {
            "text/plain": [
              "SINGAPORE        10068\n",
              "THAILAND          4509\n",
              "MALAYSIA          4479\n",
              "CHINA             3642\n",
              "AUSTRALIA         2807\n",
              "                 ...  \n",
              "SEYCHELLES           1\n",
              "BENIN                1\n",
              "ANGOLA               1\n",
              "GUINEA-BISSAU        1\n",
              "ALBANIA              1\n",
              "Name: Destination, Length: 141, dtype: int64"
            ]
          },
          "metadata": {
            "tags": []
          },
          "execution_count": 5
        }
      ]
    },
    {
      "cell_type": "code",
      "metadata": {
        "colab": {
          "base_uri": "https://localhost:8080/",
          "height": 0
        },
        "id": "wTlW7ukd6mOv",
        "outputId": "d71294f3-0d0d-4246-d5c9-42f4ba81bd0e"
      },
      "source": [
        "#Visualizing for the skewness in the Duration column\r\n",
        "\r\n",
        "%matplotlib inline\r\n",
        "\r\n",
        "insurance_data['Duration'].hist(bins=200)\r\n",
        "plt.xlim(0,500)\r\n",
        "plt.show()"
      ],
      "execution_count": 6,
      "outputs": [
        {
          "output_type": "display_data",
          "data": {
            "image/png": "[encoded data removed]",
            "text/plain": [
              "<Figure size 432x288 with 1 Axes>"
            ]
          },
          "metadata": {
            "tags": [],
            "needs_background": "light"
          }
        }
      ]
    },
    {
      "cell_type": "code",
      "metadata": {
        "colab": {
          "base_uri": "https://localhost:8080/"
        },
        "id": "rLT4LsRU8IHV",
        "outputId": "258b0d3d-deec-4901-b780-6091ab73e460"
      },
      "source": [
        "#Finding out the gender of most insurance claimers\r\n",
        "insurance_data.groupby('Claim')['Gender'].value_counts()"
      ],
      "execution_count": 7,
      "outputs": [
        {
          "output_type": "execute_result",
          "data": {
            "text/plain": [
              "Claim  Gender\n",
              "0      M         6909\n",
              "       F         6507\n",
              "1      F          255\n",
              "       M          228\n",
              "Name: Gender, dtype: int64"
            ]
          },
          "metadata": {
            "tags": []
          },
          "execution_count": 7
        }
      ]
    },
    {
      "cell_type": "markdown",
      "metadata": {
        "id": "8UNTdxQE_h4r"
      },
      "source": [
        "# Preprocessing the dataset"
      ]
    },
    {
      "cell_type": "code",
      "metadata": {
        "colab": {
          "base_uri": "https://localhost:8080/"
        },
        "id": "yzbtAJeJ8mqo",
        "outputId": "d1812f57-1dd0-4770-c3e1-6f6d7bc8c0df"
      },
      "source": [
        "#Filling null values in Gender column with 'Not Specified'.\r\n",
        "insurance_data['Gender']= insurance_data['Gender'].fillna('Not Specified')\r\n",
        "test_data['Gender']= test_data['Gender'].fillna('Not Specified')\r\n",
        "\r\n",
        "print(insurance_data['Gender'].isnull().sum())\r\n",
        "test_data['Gender'].isnull().sum()"
      ],
      "execution_count": 8,
      "outputs": [
        {
          "output_type": "stream",
          "text": [
            "0\n"
          ],
          "name": "stdout"
        },
        {
          "output_type": "execute_result",
          "data": {
            "text/plain": [
              "0"
            ]
          },
          "metadata": {
            "tags": []
          },
          "execution_count": 8
        }
      ]
    },
    {
      "cell_type": "code",
      "metadata": {
        "colab": {
          "base_uri": "https://localhost:8080/",
          "height": 0
        },
        "id": "ovtZ_BNt9HM3",
        "outputId": "75d02784-dc59-402d-f306-7743dd4ca610"
      },
      "source": [
        "#Dropping irrelevant columns\r\n",
        "X= insurance_data.drop(['Distribution Channel', 'Destination','Agency Type'], axis= 1)\r\n",
        "test_data = test_data.drop(['Distribution Channel', 'Destination','Agency Type'], axis= 1)\r\n",
        "X.head()"
      ],
      "execution_count": 9,
      "outputs": [
        {
          "output_type": "execute_result",
          "data": {
            "text/html": [
              "<div>\n",
              "<style scoped>\n",
              "    .dataframe tbody tr th:only-of-type {\n",
              "        vertical-align: middle;\n",
              "    }\n",
              "\n",
              "    .dataframe tbody tr th {\n",
              "        vertical-align: top;\n",
              "    }\n",
              "\n",
              "    .dataframe thead th {\n",
              "        text-align: right;\n",
              "    }\n",
              "</style>\n",
              "<table border=\"1\" class=\"dataframe\">\n",
              "  <thead>\n",
              "    <tr style=\"text-align: right;\">\n",
              "      <th></th>\n",
              "      <th>Agency</th>\n",
              "      <th>Product Name</th>\n",
              "      <th>Duration</th>\n",
              "      <th>Net Sales</th>\n",
              "      <th>Commision (in value)</th>\n",
              "      <th>Gender</th>\n",
              "      <th>Age</th>\n",
              "      <th>Claim</th>\n",
              "    </tr>\n",
              "  </thead>\n",
              "  <tbody>\n",
              "    <tr>\n",
              "      <th>0</th>\n",
              "      <td>CWT</td>\n",
              "      <td>Rental Vehicle Excess Insurance</td>\n",
              "      <td>61</td>\n",
              "      <td>19.8</td>\n",
              "      <td>11.88</td>\n",
              "      <td>Not Specified</td>\n",
              "      <td>29</td>\n",
              "      <td>0</td>\n",
              "    </tr>\n",
              "    <tr>\n",
              "      <th>1</th>\n",
              "      <td>EPX</td>\n",
              "      <td>Cancellation Plan</td>\n",
              "      <td>93</td>\n",
              "      <td>63.0</td>\n",
              "      <td>0.00</td>\n",
              "      <td>Not Specified</td>\n",
              "      <td>36</td>\n",
              "      <td>0</td>\n",
              "    </tr>\n",
              "    <tr>\n",
              "      <th>2</th>\n",
              "      <td>EPX</td>\n",
              "      <td>2 way Comprehensive Plan</td>\n",
              "      <td>22</td>\n",
              "      <td>22.0</td>\n",
              "      <td>0.00</td>\n",
              "      <td>Not Specified</td>\n",
              "      <td>25</td>\n",
              "      <td>0</td>\n",
              "    </tr>\n",
              "    <tr>\n",
              "      <th>3</th>\n",
              "      <td>C2B</td>\n",
              "      <td>Silver Plan</td>\n",
              "      <td>14</td>\n",
              "      <td>54.5</td>\n",
              "      <td>13.63</td>\n",
              "      <td>M</td>\n",
              "      <td>24</td>\n",
              "      <td>0</td>\n",
              "    </tr>\n",
              "    <tr>\n",
              "      <th>4</th>\n",
              "      <td>EPX</td>\n",
              "      <td>Cancellation Plan</td>\n",
              "      <td>90</td>\n",
              "      <td>10.0</td>\n",
              "      <td>0.00</td>\n",
              "      <td>Not Specified</td>\n",
              "      <td>23</td>\n",
              "      <td>0</td>\n",
              "    </tr>\n",
              "  </tbody>\n",
              "</table>\n",
              "</div>"
            ],
            "text/plain": [
              "  Agency                     Product Name  Duration  ...         Gender  Age Claim\n",
              "0    CWT  Rental Vehicle Excess Insurance        61  ...  Not Specified   29     0\n",
              "1    EPX                Cancellation Plan        93  ...  Not Specified   36     0\n",
              "2    EPX         2 way Comprehensive Plan        22  ...  Not Specified   25     0\n",
              "3    C2B                      Silver Plan        14  ...              M   24     0\n",
              "4    EPX                Cancellation Plan        90  ...  Not Specified   23     0\n",
              "\n",
              "[5 rows x 8 columns]"
            ]
          },
          "metadata": {
            "tags": []
          },
          "execution_count": 9
        }
      ]
    },
    {
      "cell_type": "code",
      "metadata": {
        "colab": {
          "base_uri": "https://localhost:8080/",
          "height": 0
        },
        "id": "MvDdj2Z39u2k",
        "outputId": "f050e6b6-d984-4ad7-f071-55da1e6535ab"
      },
      "source": [
        "#One Hot Encoding the dataset to get only numeric values in dataset\r\n",
        "\r\n",
        "X['Agency']= X['Agency'].astype('category')\r\n",
        "X['Product Name']= X['Product Name'].astype('category')\r\n",
        "X['Gender']= X['Gender'].astype('category')\r\n",
        "\r\n",
        "test_data['Agency']= test_data['Agency'].astype('category')\r\n",
        "test_data['Product Name']= test_data['Product Name'].astype('category')\r\n",
        "test_data['Gender']= test_data['Gender'].astype('category')\r\n",
        "\r\n",
        "X= pd.get_dummies(X)\r\n",
        "test_data= pd.get_dummies(test_data)\r\n",
        "X.head()"
      ],
      "execution_count": 10,
      "outputs": [
        {
          "output_type": "execute_result",
          "data": {
            "text/html": [
              "<div>\n",
              "<style scoped>\n",
              "    .dataframe tbody tr th:only-of-type {\n",
              "        vertical-align: middle;\n",
              "    }\n",
              "\n",
              "    .dataframe tbody tr th {\n",
              "        vertical-align: top;\n",
              "    }\n",
              "\n",
              "    .dataframe thead th {\n",
              "        text-align: right;\n",
              "    }\n",
              "</style>\n",
              "<table border=\"1\" class=\"dataframe\">\n",
              "  <thead>\n",
              "    <tr style=\"text-align: right;\">\n",
              "      <th></th>\n",
              "      <th>Duration</th>\n",
              "      <th>Net Sales</th>\n",
              "      <th>Commision (in value)</th>\n",
              "      <th>Age</th>\n",
              "      <th>Claim</th>\n",
              "      <th>Agency_ADM</th>\n",
              "      <th>Agency_ART</th>\n",
              "      <th>Agency_C2B</th>\n",
              "      <th>Agency_CBH</th>\n",
              "      <th>Agency_CCR</th>\n",
              "      <th>Agency_CSR</th>\n",
              "      <th>Agency_CWT</th>\n",
              "      <th>Agency_EPX</th>\n",
              "      <th>Agency_JWT</th>\n",
              "      <th>Agency_JZI</th>\n",
              "      <th>Agency_KML</th>\n",
              "      <th>Agency_LWC</th>\n",
              "      <th>Agency_RAB</th>\n",
              "      <th>Agency_SSI</th>\n",
              "      <th>Agency_TST</th>\n",
              "      <th>Agency_TTW</th>\n",
              "      <th>Product Name_1 way Comprehensive Plan</th>\n",
              "      <th>Product Name_2 way Comprehensive Plan</th>\n",
              "      <th>Product Name_24 Protect</th>\n",
              "      <th>Product Name_Annual Gold Plan</th>\n",
              "      <th>Product Name_Annual Silver Plan</th>\n",
              "      <th>Product Name_Annual Travel Protect Gold</th>\n",
              "      <th>Product Name_Annual Travel Protect Platinum</th>\n",
              "      <th>Product Name_Annual Travel Protect Silver</th>\n",
              "      <th>Product Name_Basic Plan</th>\n",
              "      <th>Product Name_Bronze Plan</th>\n",
              "      <th>Product Name_Cancellation Plan</th>\n",
              "      <th>Product Name_Child Comprehensive Plan</th>\n",
              "      <th>Product Name_Comprehensive Plan</th>\n",
              "      <th>Product Name_Gold Plan</th>\n",
              "      <th>Product Name_Individual Comprehensive Plan</th>\n",
              "      <th>Product Name_Premier Plan</th>\n",
              "      <th>Product Name_Rental Vehicle Excess Insurance</th>\n",
              "      <th>Product Name_Silver Plan</th>\n",
              "      <th>Product Name_Single Trip Travel Protect Gold</th>\n",
              "      <th>Product Name_Single Trip Travel Protect Platinum</th>\n",
              "      <th>Product Name_Single Trip Travel Protect Silver</th>\n",
              "      <th>Product Name_Spouse or Parents Comprehensive Plan</th>\n",
              "      <th>Product Name_Ticket Protector</th>\n",
              "      <th>Product Name_Travel Cruise Protect</th>\n",
              "      <th>Product Name_Travel Cruise Protect Family</th>\n",
              "      <th>Product Name_Value Plan</th>\n",
              "      <th>Gender_F</th>\n",
              "      <th>Gender_M</th>\n",
              "      <th>Gender_Not Specified</th>\n",
              "    </tr>\n",
              "  </thead>\n",
              "  <tbody>\n",
              "    <tr>\n",
              "      <th>0</th>\n",
              "      <td>61</td>\n",
              "      <td>19.8</td>\n",
              "      <td>11.88</td>\n",
              "      <td>29</td>\n",
              "      <td>0</td>\n",
              "      <td>0</td>\n",
              "      <td>0</td>\n",
              "      <td>0</td>\n",
              "      <td>0</td>\n",
              "      <td>0</td>\n",
              "      <td>0</td>\n",
              "      <td>1</td>\n",
              "      <td>0</td>\n",
              "      <td>0</td>\n",
              "      <td>0</td>\n",
              "      <td>0</td>\n",
              "      <td>0</td>\n",
              "      <td>0</td>\n",
              "      <td>0</td>\n",
              "      <td>0</td>\n",
              "      <td>0</td>\n",
              "      <td>0</td>\n",
              "      <td>0</td>\n",
              "      <td>0</td>\n",
              "      <td>0</td>\n",
              "      <td>0</td>\n",
              "      <td>0</td>\n",
              "      <td>0</td>\n",
              "      <td>0</td>\n",
              "      <td>0</td>\n",
              "      <td>0</td>\n",
              "      <td>0</td>\n",
              "      <td>0</td>\n",
              "      <td>0</td>\n",
              "      <td>0</td>\n",
              "      <td>0</td>\n",
              "      <td>0</td>\n",
              "      <td>1</td>\n",
              "      <td>0</td>\n",
              "      <td>0</td>\n",
              "      <td>0</td>\n",
              "      <td>0</td>\n",
              "      <td>0</td>\n",
              "      <td>0</td>\n",
              "      <td>0</td>\n",
              "      <td>0</td>\n",
              "      <td>0</td>\n",
              "      <td>0</td>\n",
              "      <td>0</td>\n",
              "      <td>1</td>\n",
              "    </tr>\n",
              "    <tr>\n",
              "      <th>1</th>\n",
              "      <td>93</td>\n",
              "      <td>63.0</td>\n",
              "      <td>0.00</td>\n",
              "      <td>36</td>\n",
              "      <td>0</td>\n",
              "      <td>0</td>\n",
              "      <td>0</td>\n",
              "      <td>0</td>\n",
              "      <td>0</td>\n",
              "      <td>0</td>\n",
              "      <td>0</td>\n",
              "      <td>0</td>\n",
              "      <td>1</td>\n",
              "      <td>0</td>\n",
              "      <td>0</td>\n",
              "      <td>0</td>\n",
              "      <td>0</td>\n",
              "      <td>0</td>\n",
              "      <td>0</td>\n",
              "      <td>0</td>\n",
              "      <td>0</td>\n",
              "      <td>0</td>\n",
              "      <td>0</td>\n",
              "      <td>0</td>\n",
              "      <td>0</td>\n",
              "      <td>0</td>\n",
              "      <td>0</td>\n",
              "      <td>0</td>\n",
              "      <td>0</td>\n",
              "      <td>0</td>\n",
              "      <td>0</td>\n",
              "      <td>1</td>\n",
              "      <td>0</td>\n",
              "      <td>0</td>\n",
              "      <td>0</td>\n",
              "      <td>0</td>\n",
              "      <td>0</td>\n",
              "      <td>0</td>\n",
              "      <td>0</td>\n",
              "      <td>0</td>\n",
              "      <td>0</td>\n",
              "      <td>0</td>\n",
              "      <td>0</td>\n",
              "      <td>0</td>\n",
              "      <td>0</td>\n",
              "      <td>0</td>\n",
              "      <td>0</td>\n",
              "      <td>0</td>\n",
              "      <td>0</td>\n",
              "      <td>1</td>\n",
              "    </tr>\n",
              "    <tr>\n",
              "      <th>2</th>\n",
              "      <td>22</td>\n",
              "      <td>22.0</td>\n",
              "      <td>0.00</td>\n",
              "      <td>25</td>\n",
              "      <td>0</td>\n",
              "      <td>0</td>\n",
              "      <td>0</td>\n",
              "      <td>0</td>\n",
              "      <td>0</td>\n",
              "      <td>0</td>\n",
              "      <td>0</td>\n",
              "      <td>0</td>\n",
              "      <td>1</td>\n",
              "      <td>0</td>\n",
              "      <td>0</td>\n",
              "      <td>0</td>\n",
              "      <td>0</td>\n",
              "      <td>0</td>\n",
              "      <td>0</td>\n",
              "      <td>0</td>\n",
              "      <td>0</td>\n",
              "      <td>0</td>\n",
              "      <td>1</td>\n",
              "      <td>0</td>\n",
              "      <td>0</td>\n",
              "      <td>0</td>\n",
              "      <td>0</td>\n",
              "      <td>0</td>\n",
              "      <td>0</td>\n",
              "      <td>0</td>\n",
              "      <td>0</td>\n",
              "      <td>0</td>\n",
              "      <td>0</td>\n",
              "      <td>0</td>\n",
              "      <td>0</td>\n",
              "      <td>0</td>\n",
              "      <td>0</td>\n",
              "      <td>0</td>\n",
              "      <td>0</td>\n",
              "      <td>0</td>\n",
              "      <td>0</td>\n",
              "      <td>0</td>\n",
              "      <td>0</td>\n",
              "      <td>0</td>\n",
              "      <td>0</td>\n",
              "      <td>0</td>\n",
              "      <td>0</td>\n",
              "      <td>0</td>\n",
              "      <td>0</td>\n",
              "      <td>1</td>\n",
              "    </tr>\n",
              "    <tr>\n",
              "      <th>3</th>\n",
              "      <td>14</td>\n",
              "      <td>54.5</td>\n",
              "      <td>13.63</td>\n",
              "      <td>24</td>\n",
              "      <td>0</td>\n",
              "      <td>0</td>\n",
              "      <td>0</td>\n",
              "      <td>1</td>\n",
              "      <td>0</td>\n",
              "      <td>0</td>\n",
              "      <td>0</td>\n",
              "      <td>0</td>\n",
              "      <td>0</td>\n",
              "      <td>0</td>\n",
              "      <td>0</td>\n",
              "      <td>0</td>\n",
              "      <td>0</td>\n",
              "      <td>0</td>\n",
              "      <td>0</td>\n",
              "      <td>0</td>\n",
              "      <td>0</td>\n",
              "      <td>0</td>\n",
              "      <td>0</td>\n",
              "      <td>0</td>\n",
              "      <td>0</td>\n",
              "      <td>0</td>\n",
              "      <td>0</td>\n",
              "      <td>0</td>\n",
              "      <td>0</td>\n",
              "      <td>0</td>\n",
              "      <td>0</td>\n",
              "      <td>0</td>\n",
              "      <td>0</td>\n",
              "      <td>0</td>\n",
              "      <td>0</td>\n",
              "      <td>0</td>\n",
              "      <td>0</td>\n",
              "      <td>0</td>\n",
              "      <td>1</td>\n",
              "      <td>0</td>\n",
              "      <td>0</td>\n",
              "      <td>0</td>\n",
              "      <td>0</td>\n",
              "      <td>0</td>\n",
              "      <td>0</td>\n",
              "      <td>0</td>\n",
              "      <td>0</td>\n",
              "      <td>0</td>\n",
              "      <td>1</td>\n",
              "      <td>0</td>\n",
              "    </tr>\n",
              "    <tr>\n",
              "      <th>4</th>\n",
              "      <td>90</td>\n",
              "      <td>10.0</td>\n",
              "      <td>0.00</td>\n",
              "      <td>23</td>\n",
              "      <td>0</td>\n",
              "      <td>0</td>\n",
              "      <td>0</td>\n",
              "      <td>0</td>\n",
              "      <td>0</td>\n",
              "      <td>0</td>\n",
              "      <td>0</td>\n",
              "      <td>0</td>\n",
              "      <td>1</td>\n",
              "      <td>0</td>\n",
              "      <td>0</td>\n",
              "      <td>0</td>\n",
              "      <td>0</td>\n",
              "      <td>0</td>\n",
              "      <td>0</td>\n",
              "      <td>0</td>\n",
              "      <td>0</td>\n",
              "      <td>0</td>\n",
              "      <td>0</td>\n",
              "      <td>0</td>\n",
              "      <td>0</td>\n",
              "      <td>0</td>\n",
              "      <td>0</td>\n",
              "      <td>0</td>\n",
              "      <td>0</td>\n",
              "      <td>0</td>\n",
              "      <td>0</td>\n",
              "      <td>1</td>\n",
              "      <td>0</td>\n",
              "      <td>0</td>\n",
              "      <td>0</td>\n",
              "      <td>0</td>\n",
              "      <td>0</td>\n",
              "      <td>0</td>\n",
              "      <td>0</td>\n",
              "      <td>0</td>\n",
              "      <td>0</td>\n",
              "      <td>0</td>\n",
              "      <td>0</td>\n",
              "      <td>0</td>\n",
              "      <td>0</td>\n",
              "      <td>0</td>\n",
              "      <td>0</td>\n",
              "      <td>0</td>\n",
              "      <td>0</td>\n",
              "      <td>1</td>\n",
              "    </tr>\n",
              "  </tbody>\n",
              "</table>\n",
              "</div>"
            ],
            "text/plain": [
              "   Duration  Net Sales  ...  Gender_M  Gender_Not Specified\n",
              "0        61       19.8  ...         0                     1\n",
              "1        93       63.0  ...         0                     1\n",
              "2        22       22.0  ...         0                     1\n",
              "3        14       54.5  ...         1                     0\n",
              "4        90       10.0  ...         0                     1\n",
              "\n",
              "[5 rows x 50 columns]"
            ]
          },
          "metadata": {
            "tags": []
          },
          "execution_count": 10
        }
      ]
    },
    {
      "cell_type": "code",
      "metadata": {
        "colab": {
          "base_uri": "https://localhost:8080/",
          "height": 0
        },
        "id": "4DGy3gzaAvtV",
        "outputId": "ed2b862d-8f94-4086-8b2c-90921f8315be"
      },
      "source": [
        "#Separating features and labels \r\n",
        "y= X['Claim']\r\n",
        "X.drop(['Claim'],axis= 1, inplace= True)\r\n",
        "\r\n",
        "display(X.head())\r\n",
        "y.head()"
      ],
      "execution_count": 11,
      "outputs": [
        {
          "output_type": "display_data",
          "data": {
            "text/html": [
              "<div>\n",
              "<style scoped>\n",
              "    .dataframe tbody tr th:only-of-type {\n",
              "        vertical-align: middle;\n",
              "    }\n",
              "\n",
              "    .dataframe tbody tr th {\n",
              "        vertical-align: top;\n",
              "    }\n",
              "\n",
              "    .dataframe thead th {\n",
              "        text-align: right;\n",
              "    }\n",
              "</style>\n",
              "<table border=\"1\" class=\"dataframe\">\n",
              "  <thead>\n",
              "    <tr style=\"text-align: right;\">\n",
              "      <th></th>\n",
              "      <th>Duration</th>\n",
              "      <th>Net Sales</th>\n",
              "      <th>Commision (in value)</th>\n",
              "      <th>Age</th>\n",
              "      <th>Agency_ADM</th>\n",
              "      <th>Agency_ART</th>\n",
              "      <th>Agency_C2B</th>\n",
              "      <th>Agency_CBH</th>\n",
              "      <th>Agency_CCR</th>\n",
              "      <th>Agency_CSR</th>\n",
              "      <th>Agency_CWT</th>\n",
              "      <th>Agency_EPX</th>\n",
              "      <th>Agency_JWT</th>\n",
              "      <th>Agency_JZI</th>\n",
              "      <th>Agency_KML</th>\n",
              "      <th>Agency_LWC</th>\n",
              "      <th>Agency_RAB</th>\n",
              "      <th>Agency_SSI</th>\n",
              "      <th>Agency_TST</th>\n",
              "      <th>Agency_TTW</th>\n",
              "      <th>Product Name_1 way Comprehensive Plan</th>\n",
              "      <th>Product Name_2 way Comprehensive Plan</th>\n",
              "      <th>Product Name_24 Protect</th>\n",
              "      <th>Product Name_Annual Gold Plan</th>\n",
              "      <th>Product Name_Annual Silver Plan</th>\n",
              "      <th>Product Name_Annual Travel Protect Gold</th>\n",
              "      <th>Product Name_Annual Travel Protect Platinum</th>\n",
              "      <th>Product Name_Annual Travel Protect Silver</th>\n",
              "      <th>Product Name_Basic Plan</th>\n",
              "      <th>Product Name_Bronze Plan</th>\n",
              "      <th>Product Name_Cancellation Plan</th>\n",
              "      <th>Product Name_Child Comprehensive Plan</th>\n",
              "      <th>Product Name_Comprehensive Plan</th>\n",
              "      <th>Product Name_Gold Plan</th>\n",
              "      <th>Product Name_Individual Comprehensive Plan</th>\n",
              "      <th>Product Name_Premier Plan</th>\n",
              "      <th>Product Name_Rental Vehicle Excess Insurance</th>\n",
              "      <th>Product Name_Silver Plan</th>\n",
              "      <th>Product Name_Single Trip Travel Protect Gold</th>\n",
              "      <th>Product Name_Single Trip Travel Protect Platinum</th>\n",
              "      <th>Product Name_Single Trip Travel Protect Silver</th>\n",
              "      <th>Product Name_Spouse or Parents Comprehensive Plan</th>\n",
              "      <th>Product Name_Ticket Protector</th>\n",
              "      <th>Product Name_Travel Cruise Protect</th>\n",
              "      <th>Product Name_Travel Cruise Protect Family</th>\n",
              "      <th>Product Name_Value Plan</th>\n",
              "      <th>Gender_F</th>\n",
              "      <th>Gender_M</th>\n",
              "      <th>Gender_Not Specified</th>\n",
              "    </tr>\n",
              "  </thead>\n",
              "  <tbody>\n",
              "    <tr>\n",
              "      <th>0</th>\n",
              "      <td>61</td>\n",
              "      <td>19.8</td>\n",
              "      <td>11.88</td>\n",
              "      <td>29</td>\n",
              "      <td>0</td>\n",
              "      <td>0</td>\n",
              "      <td>0</td>\n",
              "      <td>0</td>\n",
              "      <td>0</td>\n",
              "      <td>0</td>\n",
              "      <td>1</td>\n",
              "      <td>0</td>\n",
              "      <td>0</td>\n",
              "      <td>0</td>\n",
              "      <td>0</td>\n",
              "      <td>0</td>\n",
              "      <td>0</td>\n",
              "      <td>0</td>\n",
              "      <td>0</td>\n",
              "      <td>0</td>\n",
              "      <td>0</td>\n",
              "      <td>0</td>\n",
              "      <td>0</td>\n",
              "      <td>0</td>\n",
              "      <td>0</td>\n",
              "      <td>0</td>\n",
              "      <td>0</td>\n",
              "      <td>0</td>\n",
              "      <td>0</td>\n",
              "      <td>0</td>\n",
              "      <td>0</td>\n",
              "      <td>0</td>\n",
              "      <td>0</td>\n",
              "      <td>0</td>\n",
              "      <td>0</td>\n",
              "      <td>0</td>\n",
              "      <td>1</td>\n",
              "      <td>0</td>\n",
              "      <td>0</td>\n",
              "      <td>0</td>\n",
              "      <td>0</td>\n",
              "      <td>0</td>\n",
              "      <td>0</td>\n",
              "      <td>0</td>\n",
              "      <td>0</td>\n",
              "      <td>0</td>\n",
              "      <td>0</td>\n",
              "      <td>0</td>\n",
              "      <td>1</td>\n",
              "    </tr>\n",
              "    <tr>\n",
              "      <th>1</th>\n",
              "      <td>93</td>\n",
              "      <td>63.0</td>\n",
              "      <td>0.00</td>\n",
              "      <td>36</td>\n",
              "      <td>0</td>\n",
              "      <td>0</td>\n",
              "      <td>0</td>\n",
              "      <td>0</td>\n",
              "      <td>0</td>\n",
              "      <td>0</td>\n",
              "      <td>0</td>\n",
              "      <td>1</td>\n",
              "      <td>0</td>\n",
              "      <td>0</td>\n",
              "      <td>0</td>\n",
              "      <td>0</td>\n",
              "      <td>0</td>\n",
              "      <td>0</td>\n",
              "      <td>0</td>\n",
              "      <td>0</td>\n",
              "      <td>0</td>\n",
              "      <td>0</td>\n",
              "      <td>0</td>\n",
              "      <td>0</td>\n",
              "      <td>0</td>\n",
              "      <td>0</td>\n",
              "      <td>0</td>\n",
              "      <td>0</td>\n",
              "      <td>0</td>\n",
              "      <td>0</td>\n",
              "      <td>1</td>\n",
              "      <td>0</td>\n",
              "      <td>0</td>\n",
              "      <td>0</td>\n",
              "      <td>0</td>\n",
              "      <td>0</td>\n",
              "      <td>0</td>\n",
              "      <td>0</td>\n",
              "      <td>0</td>\n",
              "      <td>0</td>\n",
              "      <td>0</td>\n",
              "      <td>0</td>\n",
              "      <td>0</td>\n",
              "      <td>0</td>\n",
              "      <td>0</td>\n",
              "      <td>0</td>\n",
              "      <td>0</td>\n",
              "      <td>0</td>\n",
              "      <td>1</td>\n",
              "    </tr>\n",
              "    <tr>\n",
              "      <th>2</th>\n",
              "      <td>22</td>\n",
              "      <td>22.0</td>\n",
              "      <td>0.00</td>\n",
              "      <td>25</td>\n",
              "      <td>0</td>\n",
              "      <td>0</td>\n",
              "      <td>0</td>\n",
              "      <td>0</td>\n",
              "      <td>0</td>\n",
              "      <td>0</td>\n",
              "      <td>0</td>\n",
              "      <td>1</td>\n",
              "      <td>0</td>\n",
              "      <td>0</td>\n",
              "      <td>0</td>\n",
              "      <td>0</td>\n",
              "      <td>0</td>\n",
              "      <td>0</td>\n",
              "      <td>0</td>\n",
              "      <td>0</td>\n",
              "      <td>0</td>\n",
              "      <td>1</td>\n",
              "      <td>0</td>\n",
              "      <td>0</td>\n",
              "      <td>0</td>\n",
              "      <td>0</td>\n",
              "      <td>0</td>\n",
              "      <td>0</td>\n",
              "      <td>0</td>\n",
              "      <td>0</td>\n",
              "      <td>0</td>\n",
              "      <td>0</td>\n",
              "      <td>0</td>\n",
              "      <td>0</td>\n",
              "      <td>0</td>\n",
              "      <td>0</td>\n",
              "      <td>0</td>\n",
              "      <td>0</td>\n",
              "      <td>0</td>\n",
              "      <td>0</td>\n",
              "      <td>0</td>\n",
              "      <td>0</td>\n",
              "      <td>0</td>\n",
              "      <td>0</td>\n",
              "      <td>0</td>\n",
              "      <td>0</td>\n",
              "      <td>0</td>\n",
              "      <td>0</td>\n",
              "      <td>1</td>\n",
              "    </tr>\n",
              "    <tr>\n",
              "      <th>3</th>\n",
              "      <td>14</td>\n",
              "      <td>54.5</td>\n",
              "      <td>13.63</td>\n",
              "      <td>24</td>\n",
              "      <td>0</td>\n",
              "      <td>0</td>\n",
              "      <td>1</td>\n",
              "      <td>0</td>\n",
              "      <td>0</td>\n",
              "      <td>0</td>\n",
              "      <td>0</td>\n",
              "      <td>0</td>\n",
              "      <td>0</td>\n",
              "      <td>0</td>\n",
              "      <td>0</td>\n",
              "      <td>0</td>\n",
              "      <td>0</td>\n",
              "      <td>0</td>\n",
              "      <td>0</td>\n",
              "      <td>0</td>\n",
              "      <td>0</td>\n",
              "      <td>0</td>\n",
              "      <td>0</td>\n",
              "      <td>0</td>\n",
              "      <td>0</td>\n",
              "      <td>0</td>\n",
              "      <td>0</td>\n",
              "      <td>0</td>\n",
              "      <td>0</td>\n",
              "      <td>0</td>\n",
              "      <td>0</td>\n",
              "      <td>0</td>\n",
              "      <td>0</td>\n",
              "      <td>0</td>\n",
              "      <td>0</td>\n",
              "      <td>0</td>\n",
              "      <td>0</td>\n",
              "      <td>1</td>\n",
              "      <td>0</td>\n",
              "      <td>0</td>\n",
              "      <td>0</td>\n",
              "      <td>0</td>\n",
              "      <td>0</td>\n",
              "      <td>0</td>\n",
              "      <td>0</td>\n",
              "      <td>0</td>\n",
              "      <td>0</td>\n",
              "      <td>1</td>\n",
              "      <td>0</td>\n",
              "    </tr>\n",
              "    <tr>\n",
              "      <th>4</th>\n",
              "      <td>90</td>\n",
              "      <td>10.0</td>\n",
              "      <td>0.00</td>\n",
              "      <td>23</td>\n",
              "      <td>0</td>\n",
              "      <td>0</td>\n",
              "      <td>0</td>\n",
              "      <td>0</td>\n",
              "      <td>0</td>\n",
              "      <td>0</td>\n",
              "      <td>0</td>\n",
              "      <td>1</td>\n",
              "      <td>0</td>\n",
              "      <td>0</td>\n",
              "      <td>0</td>\n",
              "      <td>0</td>\n",
              "      <td>0</td>\n",
              "      <td>0</td>\n",
              "      <td>0</td>\n",
              "      <td>0</td>\n",
              "      <td>0</td>\n",
              "      <td>0</td>\n",
              "      <td>0</td>\n",
              "      <td>0</td>\n",
              "      <td>0</td>\n",
              "      <td>0</td>\n",
              "      <td>0</td>\n",
              "      <td>0</td>\n",
              "      <td>0</td>\n",
              "      <td>0</td>\n",
              "      <td>1</td>\n",
              "      <td>0</td>\n",
              "      <td>0</td>\n",
              "      <td>0</td>\n",
              "      <td>0</td>\n",
              "      <td>0</td>\n",
              "      <td>0</td>\n",
              "      <td>0</td>\n",
              "      <td>0</td>\n",
              "      <td>0</td>\n",
              "      <td>0</td>\n",
              "      <td>0</td>\n",
              "      <td>0</td>\n",
              "      <td>0</td>\n",
              "      <td>0</td>\n",
              "      <td>0</td>\n",
              "      <td>0</td>\n",
              "      <td>0</td>\n",
              "      <td>1</td>\n",
              "    </tr>\n",
              "  </tbody>\n",
              "</table>\n",
              "</div>"
            ],
            "text/plain": [
              "   Duration  Net Sales  ...  Gender_M  Gender_Not Specified\n",
              "0        61       19.8  ...         0                     1\n",
              "1        93       63.0  ...         0                     1\n",
              "2        22       22.0  ...         0                     1\n",
              "3        14       54.5  ...         1                     0\n",
              "4        90       10.0  ...         0                     1\n",
              "\n",
              "[5 rows x 49 columns]"
            ]
          },
          "metadata": {
            "tags": []
          }
        },
        {
          "output_type": "execute_result",
          "data": {
            "text/plain": [
              "0    0\n",
              "1    0\n",
              "2    0\n",
              "3    0\n",
              "4    0\n",
              "Name: Claim, dtype: int64"
            ]
          },
          "metadata": {
            "tags": []
          },
          "execution_count": 11
        }
      ]
    },
    {
      "cell_type": "code",
      "metadata": {
        "id": "uOMsarXYBnY3"
      },
      "source": [
        "#Spliting our dataset into training and validation set.\r\n",
        "import random\r\n",
        "from sklearn.model_selection import train_test_split\r\n",
        "\r\n",
        "X_train, X_test, y_train, y_test= train_test_split(X, y, test_size=0.3, random_state= 101)"
      ],
      "execution_count": 12,
      "outputs": []
    },
    {
      "cell_type": "code",
      "metadata": {
        "colab": {
          "base_uri": "https://localhost:8080/"
        },
        "id": "JcgKSdM3H64j",
        "outputId": "0990e411-338a-47c4-97f6-b248c50d3c14"
      },
      "source": [
        "#Checking the number of Insurance claimers and non-claimers.\r\n",
        "y_train.value_counts()"
      ],
      "execution_count": 13,
      "outputs": [
        {
          "output_type": "execute_result",
          "data": {
            "text/plain": [
              "0    33269\n",
              "1      513\n",
              "Name: Claim, dtype: int64"
            ]
          },
          "metadata": {
            "tags": []
          },
          "execution_count": 13
        }
      ]
    },
    {
      "cell_type": "code",
      "metadata": {
        "id": "-ORvWLiuCXft"
      },
      "source": [
        "#OverSampling the claimers class.\r\n",
        "from imblearn.over_sampling import SMOTE\r\n",
        "\r\n",
        "sm=  SMOTE(random_state= 25, sampling_strategy= 1)\r\n",
        "X_train, y_train= sm.fit_sample(X_train, y_train)"
      ],
      "execution_count": 14,
      "outputs": []
    },
    {
      "cell_type": "code",
      "metadata": {
        "colab": {
          "base_uri": "https://localhost:8080/"
        },
        "id": "mdvvABVbIWRA",
        "outputId": "b7deec41-184a-459b-ab8e-b0feba069f86"
      },
      "source": [
        "#Verifying the Oversampling\r\n",
        "print(\"After OverSampling, counts of label '1': {}\".format(sum(y_train==1)))\r\n",
        "print(\"After OverSampling, counts of label '0': {}\".format(sum(y_train==0)))"
      ],
      "execution_count": 15,
      "outputs": [
        {
          "output_type": "stream",
          "text": [
            "After OverSampling, counts of label '1': 33269\n",
            "After OverSampling, counts of label '0': 33269\n"
          ],
          "name": "stdout"
        }
      ]
    },
    {
      "cell_type": "markdown",
      "metadata": {
        "id": "aKFZIKy8CPVF"
      },
      "source": [
        "#Training and Validating Models"
      ]
    },
    {
      "cell_type": "code",
      "metadata": {
        "colab": {
          "base_uri": "https://localhost:8080/"
        },
        "id": "iEgXTl6KK-WY",
        "outputId": "98686a72-79aa-4a15-a812-827419e14512"
      },
      "source": [
        "#Training a Logistic Regression Model\r\n",
        "from sklearn.linear_model import LogisticRegression\r\n",
        "\r\n",
        "LogReg= LogisticRegression()\r\n",
        "LogReg.fit(X_train, y_train)"
      ],
      "execution_count": 16,
      "outputs": [
        {
          "output_type": "stream",
          "text": [
            "/usr/local/lib/python3.6/dist-packages/sklearn/linear_model/_logistic.py:940: ConvergenceWarning: lbfgs failed to converge (status=1):\n",
            "STOP: TOTAL NO. of ITERATIONS REACHED LIMIT.\n",
            "\n",
            "Increase the number of iterations (max_iter) or scale the data as shown in:\n",
            "    https://scikit-learn.org/stable/modules/preprocessing.html\n",
            "Please also refer to the documentation for alternative solver options:\n",
            "    https://scikit-learn.org/stable/modules/linear_model.html#logistic-regression\n",
            "  extra_warning_msg=_LOGISTIC_SOLVER_CONVERGENCE_MSG)\n"
          ],
          "name": "stderr"
        },
        {
          "output_type": "execute_result",
          "data": {
            "text/plain": [
              "LogisticRegression(C=1.0, class_weight=None, dual=False, fit_intercept=True,\n",
              "                   intercept_scaling=1, l1_ratio=None, max_iter=100,\n",
              "                   multi_class='auto', n_jobs=None, penalty='l2',\n",
              "                   random_state=None, solver='lbfgs', tol=0.0001, verbose=0,\n",
              "                   warm_start=False)"
            ]
          },
          "metadata": {
            "tags": []
          },
          "execution_count": 16
        }
      ]
    },
    {
      "cell_type": "code",
      "metadata": {
        "colab": {
          "base_uri": "https://localhost:8080/"
        },
        "id": "RT-ieGkJLqF-",
        "outputId": "8743d7fd-751f-40e3-ae91-45c18217a4e4"
      },
      "source": [
        "#Checking and Validating model's accuracy and F1 Score on Training and Validation set.\r\n",
        "from sklearn.metrics import accuracy_score, f1_score\r\n",
        "y_pred_train= LogReg.predict(X_train)\r\n",
        "print(\"Accuracy of Log Reg model on training set is {:.2f}\".format(accuracy_score(y_pred_train, y_train)))\r\n",
        "\r\n",
        "y_pred_test= LogReg.predict(X_test)\r\n",
        "print(\"Accuracy of Log Reg model on test set is {:.2f}\".format(accuracy_score(y_pred_test, y_test)))\r\n",
        "\r\n",
        "print(\"F1 Score of Log Reg model on training set is {:.2f}\".format(f1_score(y_pred_train, y_train)))\r\n",
        "print(\"F1 Score of Log Reg model on test set is {:.2f}\".format(f1_score(y_pred_test, y_test)))"
      ],
      "execution_count": 17,
      "outputs": [
        {
          "output_type": "stream",
          "text": [
            "Accuracy of Log Reg model on training set is 0.77\n",
            "Accuracy of Log Reg model on test set is 0.82\n",
            "F1 Score of Log Reg model on training set is 0.75\n",
            "F1 Score of Log Reg model on test set is 0.09\n"
          ],
          "name": "stdout"
        }
      ]
    },
    {
      "cell_type": "code",
      "metadata": {
        "colab": {
          "base_uri": "https://localhost:8080/"
        },
        "id": "Rj78ZVS0NpEC",
        "outputId": "0bf8e7f3-f124-446f-9b38-4fceaa79b21f"
      },
      "source": [
        "#Training a Decision Tree Classifier \r\n",
        "from sklearn.tree import DecisionTreeClassifier\r\n",
        "\r\n",
        "DecTr = DecisionTreeClassifier(random_state= 1)\r\n",
        "DecTr.fit(X_train, y_train)"
      ],
      "execution_count": 18,
      "outputs": [
        {
          "output_type": "execute_result",
          "data": {
            "text/plain": [
              "DecisionTreeClassifier(ccp_alpha=0.0, class_weight=None, criterion='gini',\n",
              "                       max_depth=None, max_features=None, max_leaf_nodes=None,\n",
              "                       min_impurity_decrease=0.0, min_impurity_split=None,\n",
              "                       min_samples_leaf=1, min_samples_split=2,\n",
              "                       min_weight_fraction_leaf=0.0, presort='deprecated',\n",
              "                       random_state=1, splitter='best')"
            ]
          },
          "metadata": {
            "tags": []
          },
          "execution_count": 18
        }
      ]
    },
    {
      "cell_type": "code",
      "metadata": {
        "colab": {
          "base_uri": "https://localhost:8080/"
        },
        "id": "LAIMz3XhODkm",
        "outputId": "541e7141-58e8-4767-8f2a-4f4d344595ba"
      },
      "source": [
        "#Checking and Validating model's accuracy and F1 Score on Training and Validation set.\r\n",
        "y_pred_train_DT= DecTr.predict(X_train)\r\n",
        "print(\"Accuracy of Decision Tree model on training set is {:.2f}\".format(accuracy_score(y_pred_train_DT, y_train)))\r\n",
        "\r\n",
        "y_pred_test_DT= DecTr.predict(X_test)\r\n",
        "print(\"Accuracy of Decision Tree model on test set is {:.2f}\".format(accuracy_score(y_pred_test_DT, y_test)))\r\n",
        "\r\n",
        "print(\"F1 Score of Decision Tree model on training set is {:.2f}\".format(f1_score(y_pred_train_DT, y_train)))\r\n",
        "print(\"F1 Score of Decision Tree model on test set is {:.2f}\".format(f1_score(y_pred_test_DT, y_test)))"
      ],
      "execution_count": 19,
      "outputs": [
        {
          "output_type": "stream",
          "text": [
            "Accuracy of Decision Tree model on training set is 1.00\n",
            "Accuracy of Decision Tree model on test set is 0.96\n",
            "F1 Score of Decision Tree model on training set is 1.00\n",
            "F1 Score of Decision Tree model on test set is 0.08\n"
          ],
          "name": "stdout"
        }
      ]
    },
    {
      "cell_type": "code",
      "metadata": {
        "colab": {
          "base_uri": "https://localhost:8080/"
        },
        "id": "K-4k9Yu5OxtD",
        "outputId": "41f15fa4-e2ea-46ca-b183-e4b7edf31bf6"
      },
      "source": [
        "#Training a Random Forest Classifier\r\n",
        "from sklearn.ensemble import RandomForestClassifier\r\n",
        "\r\n",
        "RndFrstClf= RandomForestClassifier(random_state= 1)\r\n",
        "RndFrstClf.fit(X_train, y_train)\r\n",
        "\r\n"
      ],
      "execution_count": 20,
      "outputs": [
        {
          "output_type": "execute_result",
          "data": {
            "text/plain": [
              "RandomForestClassifier(bootstrap=True, ccp_alpha=0.0, class_weight=None,\n",
              "                       criterion='gini', max_depth=None, max_features='auto',\n",
              "                       max_leaf_nodes=None, max_samples=None,\n",
              "                       min_impurity_decrease=0.0, min_impurity_split=None,\n",
              "                       min_samples_leaf=1, min_samples_split=2,\n",
              "                       min_weight_fraction_leaf=0.0, n_estimators=100,\n",
              "                       n_jobs=None, oob_score=False, random_state=1, verbose=0,\n",
              "                       warm_start=False)"
            ]
          },
          "metadata": {
            "tags": []
          },
          "execution_count": 20
        }
      ]
    },
    {
      "cell_type": "code",
      "metadata": {
        "colab": {
          "base_uri": "https://localhost:8080/"
        },
        "id": "mEye1utBPGtk",
        "outputId": "c8a7edae-2eb6-41df-ee6d-6e70dbea40dc"
      },
      "source": [
        "#Checking and Validating model's accuracy and F1 Score on Training and Validation set.\r\n",
        "y_pred_train_RF= RndFrstClf.predict(X_train)\r\n",
        "print(\"Accuracy of Random Forest model on training set is {:.2f}\".format(accuracy_score(y_pred_train_RF, y_train)))\r\n",
        "\r\n",
        "y_pred_test_RF= RndFrstClf.predict(X_test)\r\n",
        "print(\"Accuracy of Random Forest model on test set is {:.2f}\".format(accuracy_score(y_pred_test_RF, y_test)))\r\n",
        "\r\n",
        "print(\"F1 Score of Random Forest model on training set is {:.2f}\".format(f1_score(y_pred_train_RF, y_train)))\r\n",
        "print(\"F1 Score of Random Forest model on test set is {:.2f}\".format(f1_score(y_pred_test_RF, y_test)))"
      ],
      "execution_count": 21,
      "outputs": [
        {
          "output_type": "stream",
          "text": [
            "Accuracy of Random Forest model on training set is 1.00\n",
            "Accuracy of Random Forest model on test set is 0.97\n",
            "F1 Score of Random Forest model on training set is 1.00\n",
            "F1 Score of Random Forest model on test set is 0.06\n"
          ],
          "name": "stdout"
        }
      ]
    },
    {
      "cell_type": "markdown",
      "metadata": {
        "id": "FCwnEw25DEv3"
      },
      "source": [
        "#Finding best parameter and Best Model"
      ]
    },
    {
      "cell_type": "code",
      "metadata": {
        "colab": {
          "base_uri": "https://localhost:8080/"
        },
        "id": "0gvuVHeNvGTN",
        "outputId": "5c755737-a7b1-4436-a46a-3b6146800967"
      },
      "source": [
        "#Implementing GridSearchCV to search for best parameters of Random Forest Classifier\r\n",
        "from sklearn.model_selection import GridSearchCV\r\n",
        "\r\n",
        "params= {\r\n",
        "    'bootstrap': [True],\r\n",
        "    'max_depth': [10, 20],\r\n",
        "    'min_samples_leaf': [3, 4],\r\n",
        "    'min_samples_split': [4, 6],\r\n",
        "    'n_estimators': [100, 200],\r\n",
        "}\r\n",
        "RndFrst= RandomForestClassifier(random_state= 1)\r\n",
        "grid_search_1= GridSearchCV(RndFrst, params, cv= 3, n_jobs= -1, verbose= 2 )\r\n",
        "\r\n",
        "#Training on the training data\r\n",
        "grid_res= grid_search_1.fit(X_train, y_train)\r\n",
        "grid_res.best_params_"
      ],
      "execution_count": 22,
      "outputs": [
        {
          "output_type": "stream",
          "text": [
            "Fitting 3 folds for each of 16 candidates, totalling 48 fits\n"
          ],
          "name": "stdout"
        },
        {
          "output_type": "stream",
          "text": [
            "[Parallel(n_jobs=-1)]: Using backend LokyBackend with 2 concurrent workers.\n",
            "[Parallel(n_jobs=-1)]: Done  37 tasks      | elapsed:  3.1min\n",
            "[Parallel(n_jobs=-1)]: Done  48 out of  48 | elapsed:  4.1min finished\n"
          ],
          "name": "stderr"
        },
        {
          "output_type": "execute_result",
          "data": {
            "text/plain": [
              "{'bootstrap': True,\n",
              " 'max_depth': 20,\n",
              " 'min_samples_leaf': 3,\n",
              " 'min_samples_split': 4,\n",
              " 'n_estimators': 200}"
            ]
          },
          "metadata": {
            "tags": []
          },
          "execution_count": 22
        }
      ]
    },
    {
      "cell_type": "code",
      "metadata": {
        "colab": {
          "base_uri": "https://localhost:8080/"
        },
        "id": "gnRElsJ9xFdV",
        "outputId": "c9cb55d4-a0d2-4865-ea47-f8591b32c462"
      },
      "source": [
        "#Implementing GridSearchCV to search for best parameters of Decision Tree Classifier\r\n",
        "DTC= DecisionTreeClassifier(random_state= 1)\r\n",
        "params2= {\r\n",
        "    'max_leaf_nodes': [5, 10, 15, 20],\r\n",
        "    'min_samples_split': [4, 6, 8, 10]\r\n",
        "}\r\n",
        "grid_search_2= GridSearchCV(DTC, params2, cv= 3, n_jobs= -1, verbose= 2)\r\n",
        "\r\n",
        "grid_res_DTC= grid_search_2.fit(X_train, y_train)\r\n",
        "grid_res_DTC.best_params_"
      ],
      "execution_count": 23,
      "outputs": [
        {
          "output_type": "stream",
          "text": [
            "Fitting 3 folds for each of 16 candidates, totalling 48 fits\n"
          ],
          "name": "stdout"
        },
        {
          "output_type": "stream",
          "text": [
            "[Parallel(n_jobs=-1)]: Using backend LokyBackend with 2 concurrent workers.\n",
            "[Parallel(n_jobs=-1)]: Done  37 tasks      | elapsed:    5.7s\n",
            "[Parallel(n_jobs=-1)]: Done  48 out of  48 | elapsed:    7.6s finished\n"
          ],
          "name": "stderr"
        },
        {
          "output_type": "execute_result",
          "data": {
            "text/plain": [
              "{'max_leaf_nodes': 20, 'min_samples_split': 4}"
            ]
          },
          "metadata": {
            "tags": []
          },
          "execution_count": 23
        }
      ]
    },
    {
      "cell_type": "code",
      "metadata": {
        "colab": {
          "base_uri": "https://localhost:8080/"
        },
        "id": "hKSP2nnm1y0s",
        "outputId": "f45f4d2f-9116-45ac-a438-448c5318d8bf"
      },
      "source": [
        "#Checking and Validating the model on training and validation data\r\n",
        "y_pred_train_GS1= grid_search_1.predict(X_train)\r\n",
        "print(\"Accuracy of 2nd Random Forest model on training set is {:.2f}\".format(accuracy_score(y_pred_train_GS1, y_train)))\r\n",
        "\r\n",
        "y_pred_test_GS1= grid_search_1.predict(X_test)\r\n",
        "print(\"Accuracy of 2nd Random Forest model on test set is {:.2f}\".format(accuracy_score(y_pred_test_GS1, y_test)))\r\n",
        "\r\n",
        "print(\"F1 Score of 2nd Random Forest model on training set is {:.2f}\".format(f1_score(y_pred_train_GS1, y_train)))\r\n",
        "print(\"F1 Score of 2nd Random Forest model on test set is {:.2f}\".format(f1_score(y_pred_test_GS1, y_test))) "
      ],
      "execution_count": 24,
      "outputs": [
        {
          "output_type": "stream",
          "text": [
            "Accuracy of 2nd Random Forest model on training set is 0.98\n",
            "Accuracy of 2nd Random Forest model on test set is 0.96\n",
            "F1 Score of 2nd Random Forest model on training set is 0.98\n",
            "F1 Score of 2nd Random Forest model on test set is 0.09\n"
          ],
          "name": "stdout"
        }
      ]
    },
    {
      "cell_type": "code",
      "metadata": {
        "colab": {
          "base_uri": "https://localhost:8080/"
        },
        "id": "8r0RmQEM1TQA",
        "outputId": "cb013542-c5b1-4ee4-ef72-2de6be7a36ed"
      },
      "source": [
        "#Checking and Validating the model on training and validation data\r\n",
        "y_pred_train_DT2= grid_search_2.predict(X_train)\r\n",
        "print(\"Accuracy of 2nd Decision Tree model on training set is {:.2f}\".format(accuracy_score(y_pred_train_DT2, y_train)))\r\n",
        "\r\n",
        "y_pred_test_DT2= grid_search_2.predict(X_test)\r\n",
        "print(\"Accuracy of 2nd Decision Tree model on test set is {:.2f}\".format(accuracy_score(y_pred_test_DT2, y_test)))\r\n",
        "\r\n",
        "print(\"F1 Score of 2nd Decision Tree model on training set is {:.2f}\".format(f1_score(y_pred_train_DT2, y_train)))\r\n",
        "print(\"F1 Score of 2nd Decision Tree model on test set is {:.2f}\".format(f1_score(y_pred_test_DT2, y_test)))"
      ],
      "execution_count": 25,
      "outputs": [
        {
          "output_type": "stream",
          "text": [
            "Accuracy of 2nd Decision Tree model on training set is 0.83\n",
            "Accuracy of 2nd Decision Tree model on test set is 0.94\n",
            "F1 Score of 2nd Decision Tree model on training set is 0.81\n",
            "F1 Score of 2nd Decision Tree model on test set is 0.12\n"
          ],
          "name": "stdout"
        }
      ]
    },
    {
      "cell_type": "markdown",
      "metadata": {
        "id": "_GaAu7wrEIke"
      },
      "source": [
        "#Selection of Best Features"
      ]
    },
    {
      "cell_type": "code",
      "metadata": {
        "colab": {
          "base_uri": "https://localhost:8080/"
        },
        "id": "TMT7XEjw4WQO",
        "outputId": "30986db6-1127-483b-a9dc-3e2c8b12d413"
      },
      "source": [
        " #Selecting best features to train the model on\r\n",
        "from sklearn.feature_selection import RFE\r\n",
        "\r\n",
        "RFC= RandomForestClassifier(random_state= 1, bootstrap= True, max_depth= 20,\r\n",
        "                            min_samples_leaf= 3, min_samples_split= 4, n_estimators= 200)\r\n",
        "selector= RFE(RFC, step= 1)\r\n",
        "selector.fit(X_train, y_train)\r\n",
        "\r\n",
        "\r\n",
        "print(\"Number of features selected for the model to train on: {}\".format(selector.support_.sum()))\r\n",
        "print(\"\\n\")\r\n",
        "print(\"The ranking of all the features are as follows: \")\r\n",
        "selector.ranking_"
      ],
      "execution_count": 26,
      "outputs": [
        {
          "output_type": "stream",
          "text": [
            "Number of features selected for the model to train on: 24\n",
            "\n",
            "\n",
            "The ranking of all the features are as follows: \n"
          ],
          "name": "stdout"
        },
        {
          "output_type": "execute_result",
          "data": {
            "text/plain": [
              "array([ 1,  1,  1,  1, 22, 12,  1, 24, 17, 23,  1,  1,  4,  1, 10,  1, 14,\n",
              "        3,  5, 18,  1,  1, 21, 11,  1,  2, 19, 13,  1,  1,  1, 25,  7,  1,\n",
              "       15, 16,  1,  1,  1,  1,  8, 20,  6,  9, 26,  1,  1,  1,  1])"
            ]
          },
          "metadata": {
            "tags": []
          },
          "execution_count": 26
        }
      ]
    },
    {
      "cell_type": "code",
      "metadata": {
        "colab": {
          "base_uri": "https://localhost:8080/"
        },
        "id": "5Z6RAs_U8L9L",
        "outputId": "ff1e7e62-3fc3-424d-e7fb-033f77209d18"
      },
      "source": [
        "#Making prediction on validation set \r\n",
        "y_pred_test_RFE= selector.predict(X_test)\r\n",
        "#Checking the accuracy and F1 score on validatin set\r\n",
        "print(\"Accuracy of Random Forest model on test set is {:.2f}\".format(accuracy_score(y_pred_test_RFE, y_test)))\r\n",
        "print(\"F1 Score of Random Forest model on test set is {:.2f}\".format(f1_score(y_pred_test_RFE, y_test))) \r\n",
        "      "
      ],
      "execution_count": 27,
      "outputs": [
        {
          "output_type": "stream",
          "text": [
            "Accuracy of Random Forest model on test set is 0.96\n",
            "F1 Score of Random Forest model on test set is 0.08\n"
          ],
          "name": "stdout"
        }
      ]
    },
    {
      "cell_type": "code",
      "metadata": {
        "colab": {
          "base_uri": "https://localhost:8080/"
        },
        "id": "_tdok_hdI3TJ",
        "outputId": "76a7f69f-170f-46ba-a2a1-e26a43ba2d86"
      },
      "source": [
        "DTC2= DecisionTreeClassifier(random_state= 1, max_leaf_nodes= 20, min_samples_split= 4)\r\n",
        "selector2= RFE(DTC2,step=1)\r\n",
        "selector2.fit(X_train, y_train)\r\n",
        "\r\n",
        "print(\"Number of features selected for the model to train on: {}\".format(selector2.support_.sum()))\r\n",
        "print(\"\\n\")\r\n",
        "print(\"The ranking of all the features are as follows: \")\r\n",
        "selector2.ranking_ "
      ],
      "execution_count": 28,
      "outputs": [
        {
          "output_type": "stream",
          "text": [
            "Number of features selected for the model to train on: 24\n",
            "\n",
            "\n",
            "The ranking of all the features are as follows: \n"
          ],
          "name": "stdout"
        },
        {
          "output_type": "execute_result",
          "data": {
            "text/plain": [
              "array([ 1,  1,  1,  1,  1,  1,  1,  1,  1,  3,  4, 10,  9,  1, 15,  1, 19,\n",
              "       20, 17,  5, 11,  1, 23, 25, 26, 24, 22, 18, 16,  1,  1,  1,  1,  1,\n",
              "        1,  2,  6,  1,  1,  1,  8, 12, 13, 14,  1,  1,  1,  7, 21])"
            ]
          },
          "metadata": {
            "tags": []
          },
          "execution_count": 28
        }
      ]
    },
    {
      "cell_type": "code",
      "metadata": {
        "colab": {
          "base_uri": "https://localhost:8080/"
        },
        "id": "Tz_I-SIMJEeH",
        "outputId": "2f2199e6-9d33-4eda-cc1d-d537f26a2677"
      },
      "source": [
        "#Making prediction on validation set \r\n",
        "y_pred_test_RFE2= selector2.predict(X_test)\r\n",
        "#Checking the accuracy and F1 score on validatin set\r\n",
        "print(\"Accuracy of Decision Tree model on test set is {:.2f}\".format(accuracy_score(y_pred_test_RFE2, y_test)))\r\n",
        "print(\"F1 Score of Decision Tree model on test set is {:.2f}\".format(f1_score(y_pred_test_RFE2, y_test))) "
      ],
      "execution_count": 29,
      "outputs": [
        {
          "output_type": "stream",
          "text": [
            "Accuracy of Decision Tree model on test set is 0.94\n",
            "F1 Score of Decision Tree model on test set is 0.12\n"
          ],
          "name": "stdout"
        }
      ]
    },
    {
      "cell_type": "markdown",
      "metadata": {
        "id": "Yu7VgfNdjp3_"
      },
      "source": [
        "#Predicting on test_data"
      ]
    },
    {
      "cell_type": "markdown",
      "metadata": {
        "id": "ntU4fuTPspsM"
      },
      "source": [
        "**Predicting on test data using Random Forest model i.e. selector**"
      ]
    },
    {
      "cell_type": "code",
      "metadata": {
        "id": "qHOy-R7lq_Fb"
      },
      "source": [
        "#inserting a column which is not present in test_data to maintain the shape of the dataframe\r\n",
        "test_data.insert(44, 'Product Name_Travel Cruise Protect Family', 0)"
      ],
      "execution_count": 30,
      "outputs": []
    },
    {
      "cell_type": "code",
      "metadata": {
        "id": "YqabWewvNvjX"
      },
      "source": [
        "\r\n",
        "prediction= selector.predict(test_data)\r\n",
        "predicted_data= pd.DataFrame(prediction, columns=['prediction'])\r\n",
        "predicted_data.to_csv('predictions.csv', index=False)"
      ],
      "execution_count": 31,
      "outputs": []
    },
    {
      "cell_type": "markdown",
      "metadata": {
        "id": "vHk2CDdWs5aU"
      },
      "source": [
        "**Predicting on test data using Decision Tree model i.e. selector2**"
      ]
    },
    {
      "cell_type": "code",
      "metadata": {
        "id": "QoAIfzjmsoMZ"
      },
      "source": [
        "prediction2= selector2.predict(test_data)\r\n",
        "predicted_data2= pd.DataFrame(prediction2, columns=['prediction'])\r\n",
        "predicted_data2.to_csv('predictions2.csv', index=False)"
      ],
      "execution_count": 32,
      "outputs": []
    }
  ]
}