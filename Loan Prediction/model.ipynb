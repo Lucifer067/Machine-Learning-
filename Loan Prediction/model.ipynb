{
  "nbformat": 4,
  "nbformat_minor": 0,
  "metadata": {
    "colab": {
      "name": "loan_or_noLoan.ipynb",
      "provenance": []
    },
    "kernelspec": {
      "name": "python3",
      "display_name": "Python 3"
    }
  },
  "cells": [
    {
      "cell_type": "markdown",
      "metadata": {
        "id": "LjAtJ2Ae1E5s"
      },
      "source": [
        "#Importing libraries and EDA"
      ]
    },
    {
      "cell_type": "code",
      "metadata": {
        "id": "I93wUlYrvo2U"
      },
      "source": [
        "#Importing all the required libraries\r\n",
        "import numpy as np\r\n",
        "import pandas as pd\r\n",
        "\r\n",
        "import matplotlib.pyplot as plt\r\n",
        "import seaborn as sns\r\n",
        "%matplotlib inline\r\n",
        "\r\n",
        "import warnings\r\n",
        "warnings.filterwarnings(\"ignore\")"
      ],
      "execution_count": null,
      "outputs": []
    },
    {
      "cell_type": "code",
      "metadata": {
        "colab": {
          "base_uri": "https://localhost:8080/"
        },
        "id": "vmPdsxIAzwuO",
        "outputId": "19468a96-1fae-4734-f7eb-94311fcb621c"
      },
      "source": [
        "#Loading the training and test datasets\r\n",
        "loan_data  = pd.read_csv(\"https://raw.githubusercontent.com/dphi-official/Datasets/master/Loan_Data/loan_train.csv\" )\r\n",
        "test_data= pd.read_csv('https://raw.githubusercontent.com/dphi-official/Datasets/master/Loan_Data/loan_test.csv')\r\n",
        "\r\n",
        "#Displaying first 5 rows of training data\r\n",
        "loan_data.head()"
      ],
      "execution_count": null,
      "outputs": [
        {
          "output_type": "execute_result",
          "data": {
            "text/html": [
              "<div>\n",
              "<style scoped>\n",
              "    .dataframe tbody tr th:only-of-type {\n",
              "        vertical-align: middle;\n",
              "    }\n",
              "\n",
              "    .dataframe tbody tr th {\n",
              "        vertical-align: top;\n",
              "    }\n",
              "\n",
              "    .dataframe thead th {\n",
              "        text-align: right;\n",
              "    }\n",
              "</style>\n",
              "<table border=\"1\" class=\"dataframe\">\n",
              "  <thead>\n",
              "    <tr style=\"text-align: right;\">\n",
              "      <th></th>\n",
              "      <th>Unnamed: 0</th>\n",
              "      <th>Loan_ID</th>\n",
              "      <th>Gender</th>\n",
              "      <th>Married</th>\n",
              "      <th>Dependents</th>\n",
              "      <th>Education</th>\n",
              "      <th>Self_Employed</th>\n",
              "      <th>ApplicantIncome</th>\n",
              "      <th>CoapplicantIncome</th>\n",
              "      <th>LoanAmount</th>\n",
              "      <th>Loan_Amount_Term</th>\n",
              "      <th>Credit_History</th>\n",
              "      <th>Property_Area</th>\n",
              "      <th>Loan_Status</th>\n",
              "    </tr>\n",
              "  </thead>\n",
              "  <tbody>\n",
              "    <tr>\n",
              "      <th>0</th>\n",
              "      <td>0</td>\n",
              "      <td>LP002305</td>\n",
              "      <td>Female</td>\n",
              "      <td>No</td>\n",
              "      <td>0</td>\n",
              "      <td>Graduate</td>\n",
              "      <td>No</td>\n",
              "      <td>4547</td>\n",
              "      <td>0.0</td>\n",
              "      <td>115.0</td>\n",
              "      <td>360.0</td>\n",
              "      <td>1.0</td>\n",
              "      <td>Semiurban</td>\n",
              "      <td>1</td>\n",
              "    </tr>\n",
              "    <tr>\n",
              "      <th>1</th>\n",
              "      <td>1</td>\n",
              "      <td>LP001715</td>\n",
              "      <td>Male</td>\n",
              "      <td>Yes</td>\n",
              "      <td>3+</td>\n",
              "      <td>Not Graduate</td>\n",
              "      <td>Yes</td>\n",
              "      <td>5703</td>\n",
              "      <td>0.0</td>\n",
              "      <td>130.0</td>\n",
              "      <td>360.0</td>\n",
              "      <td>1.0</td>\n",
              "      <td>Rural</td>\n",
              "      <td>1</td>\n",
              "    </tr>\n",
              "    <tr>\n",
              "      <th>2</th>\n",
              "      <td>2</td>\n",
              "      <td>LP002086</td>\n",
              "      <td>Female</td>\n",
              "      <td>Yes</td>\n",
              "      <td>0</td>\n",
              "      <td>Graduate</td>\n",
              "      <td>No</td>\n",
              "      <td>4333</td>\n",
              "      <td>2451.0</td>\n",
              "      <td>110.0</td>\n",
              "      <td>360.0</td>\n",
              "      <td>1.0</td>\n",
              "      <td>Urban</td>\n",
              "      <td>0</td>\n",
              "    </tr>\n",
              "    <tr>\n",
              "      <th>3</th>\n",
              "      <td>3</td>\n",
              "      <td>LP001136</td>\n",
              "      <td>Male</td>\n",
              "      <td>Yes</td>\n",
              "      <td>0</td>\n",
              "      <td>Not Graduate</td>\n",
              "      <td>Yes</td>\n",
              "      <td>4695</td>\n",
              "      <td>0.0</td>\n",
              "      <td>96.0</td>\n",
              "      <td>NaN</td>\n",
              "      <td>1.0</td>\n",
              "      <td>Urban</td>\n",
              "      <td>1</td>\n",
              "    </tr>\n",
              "    <tr>\n",
              "      <th>4</th>\n",
              "      <td>4</td>\n",
              "      <td>LP002529</td>\n",
              "      <td>Male</td>\n",
              "      <td>Yes</td>\n",
              "      <td>2</td>\n",
              "      <td>Graduate</td>\n",
              "      <td>No</td>\n",
              "      <td>6700</td>\n",
              "      <td>1750.0</td>\n",
              "      <td>230.0</td>\n",
              "      <td>300.0</td>\n",
              "      <td>1.0</td>\n",
              "      <td>Semiurban</td>\n",
              "      <td>1</td>\n",
              "    </tr>\n",
              "  </tbody>\n",
              "</table>\n",
              "</div>"
            ],
            "text/plain": [
              "   Unnamed: 0   Loan_ID  Gender  ... Credit_History Property_Area Loan_Status\n",
              "0           0  LP002305  Female  ...            1.0     Semiurban           1\n",
              "1           1  LP001715    Male  ...            1.0         Rural           1\n",
              "2           2  LP002086  Female  ...            1.0         Urban           0\n",
              "3           3  LP001136    Male  ...            1.0         Urban           1\n",
              "4           4  LP002529    Male  ...            1.0     Semiurban           1\n",
              "\n",
              "[5 rows x 14 columns]"
            ]
          },
          "metadata": {
            "tags": []
          },
          "execution_count": 2
        }
      ]
    },
    {
      "cell_type": "code",
      "metadata": {
        "colab": {
          "base_uri": "https://localhost:8080/"
        },
        "id": "DKEOzpMa0QbH",
        "outputId": "463fae0d-a8a1-472f-b94e-1b473d6a18b2"
      },
      "source": [
        "#Displaying first 5 rows of test dataset to find the differences\r\n",
        "test_data.head()"
      ],
      "execution_count": null,
      "outputs": [
        {
          "output_type": "execute_result",
          "data": {
            "text/html": [
              "<div>\n",
              "<style scoped>\n",
              "    .dataframe tbody tr th:only-of-type {\n",
              "        vertical-align: middle;\n",
              "    }\n",
              "\n",
              "    .dataframe tbody tr th {\n",
              "        vertical-align: top;\n",
              "    }\n",
              "\n",
              "    .dataframe thead th {\n",
              "        text-align: right;\n",
              "    }\n",
              "</style>\n",
              "<table border=\"1\" class=\"dataframe\">\n",
              "  <thead>\n",
              "    <tr style=\"text-align: right;\">\n",
              "      <th></th>\n",
              "      <th>Loan_ID</th>\n",
              "      <th>Gender</th>\n",
              "      <th>Married</th>\n",
              "      <th>Dependents</th>\n",
              "      <th>Education</th>\n",
              "      <th>Self_Employed</th>\n",
              "      <th>ApplicantIncome</th>\n",
              "      <th>CoapplicantIncome</th>\n",
              "      <th>LoanAmount</th>\n",
              "      <th>Loan_Amount_Term</th>\n",
              "      <th>Credit_History</th>\n",
              "      <th>Property_Area</th>\n",
              "    </tr>\n",
              "  </thead>\n",
              "  <tbody>\n",
              "    <tr>\n",
              "      <th>0</th>\n",
              "      <td>LP001116</td>\n",
              "      <td>Male</td>\n",
              "      <td>No</td>\n",
              "      <td>0</td>\n",
              "      <td>Not Graduate</td>\n",
              "      <td>No</td>\n",
              "      <td>3748</td>\n",
              "      <td>1668.0</td>\n",
              "      <td>110.0</td>\n",
              "      <td>360.0</td>\n",
              "      <td>1.0</td>\n",
              "      <td>Semiurban</td>\n",
              "    </tr>\n",
              "    <tr>\n",
              "      <th>1</th>\n",
              "      <td>LP001488</td>\n",
              "      <td>Male</td>\n",
              "      <td>Yes</td>\n",
              "      <td>3+</td>\n",
              "      <td>Graduate</td>\n",
              "      <td>No</td>\n",
              "      <td>4000</td>\n",
              "      <td>7750.0</td>\n",
              "      <td>290.0</td>\n",
              "      <td>360.0</td>\n",
              "      <td>1.0</td>\n",
              "      <td>Semiurban</td>\n",
              "    </tr>\n",
              "    <tr>\n",
              "      <th>2</th>\n",
              "      <td>LP002138</td>\n",
              "      <td>Male</td>\n",
              "      <td>Yes</td>\n",
              "      <td>0</td>\n",
              "      <td>Graduate</td>\n",
              "      <td>No</td>\n",
              "      <td>2625</td>\n",
              "      <td>6250.0</td>\n",
              "      <td>187.0</td>\n",
              "      <td>360.0</td>\n",
              "      <td>1.0</td>\n",
              "      <td>Rural</td>\n",
              "    </tr>\n",
              "    <tr>\n",
              "      <th>3</th>\n",
              "      <td>LP002284</td>\n",
              "      <td>Male</td>\n",
              "      <td>No</td>\n",
              "      <td>0</td>\n",
              "      <td>Not Graduate</td>\n",
              "      <td>No</td>\n",
              "      <td>3902</td>\n",
              "      <td>1666.0</td>\n",
              "      <td>109.0</td>\n",
              "      <td>360.0</td>\n",
              "      <td>1.0</td>\n",
              "      <td>Rural</td>\n",
              "    </tr>\n",
              "    <tr>\n",
              "      <th>4</th>\n",
              "      <td>LP002328</td>\n",
              "      <td>Male</td>\n",
              "      <td>Yes</td>\n",
              "      <td>0</td>\n",
              "      <td>Not Graduate</td>\n",
              "      <td>No</td>\n",
              "      <td>6096</td>\n",
              "      <td>0.0</td>\n",
              "      <td>218.0</td>\n",
              "      <td>360.0</td>\n",
              "      <td>0.0</td>\n",
              "      <td>Rural</td>\n",
              "    </tr>\n",
              "  </tbody>\n",
              "</table>\n",
              "</div>"
            ],
            "text/plain": [
              "    Loan_ID Gender Married  ... Loan_Amount_Term Credit_History Property_Area\n",
              "0  LP001116   Male      No  ...            360.0            1.0     Semiurban\n",
              "1  LP001488   Male     Yes  ...            360.0            1.0     Semiurban\n",
              "2  LP002138   Male     Yes  ...            360.0            1.0         Rural\n",
              "3  LP002284   Male      No  ...            360.0            1.0         Rural\n",
              "4  LP002328   Male     Yes  ...            360.0            0.0         Rural\n",
              "\n",
              "[5 rows x 12 columns]"
            ]
          },
          "metadata": {
            "tags": []
          },
          "execution_count": 3
        }
      ]
    },
    {
      "cell_type": "code",
      "metadata": {
        "colab": {
          "base_uri": "https://localhost:8080/"
        },
        "id": "mgyD4wwg0Cny",
        "outputId": "8f12a36d-9243-4419-dd0e-acc1f1e922ad"
      },
      "source": [
        "#Doing statistical analysis on training data\r\n",
        "loan_data.describe().transpose()"
      ],
      "execution_count": null,
      "outputs": [
        {
          "output_type": "execute_result",
          "data": {
            "text/html": [
              "<div>\n",
              "<style scoped>\n",
              "    .dataframe tbody tr th:only-of-type {\n",
              "        vertical-align: middle;\n",
              "    }\n",
              "\n",
              "    .dataframe tbody tr th {\n",
              "        vertical-align: top;\n",
              "    }\n",
              "\n",
              "    .dataframe thead th {\n",
              "        text-align: right;\n",
              "    }\n",
              "</style>\n",
              "<table border=\"1\" class=\"dataframe\">\n",
              "  <thead>\n",
              "    <tr style=\"text-align: right;\">\n",
              "      <th></th>\n",
              "      <th>count</th>\n",
              "      <th>mean</th>\n",
              "      <th>std</th>\n",
              "      <th>min</th>\n",
              "      <th>25%</th>\n",
              "      <th>50%</th>\n",
              "      <th>75%</th>\n",
              "      <th>max</th>\n",
              "    </tr>\n",
              "  </thead>\n",
              "  <tbody>\n",
              "    <tr>\n",
              "      <th>Unnamed: 0</th>\n",
              "      <td>491.0</td>\n",
              "      <td>245.000000</td>\n",
              "      <td>141.883755</td>\n",
              "      <td>0.0</td>\n",
              "      <td>122.5</td>\n",
              "      <td>245.0</td>\n",
              "      <td>367.5</td>\n",
              "      <td>490.0</td>\n",
              "    </tr>\n",
              "    <tr>\n",
              "      <th>ApplicantIncome</th>\n",
              "      <td>491.0</td>\n",
              "      <td>5401.189409</td>\n",
              "      <td>6419.427177</td>\n",
              "      <td>150.0</td>\n",
              "      <td>2923.5</td>\n",
              "      <td>3865.0</td>\n",
              "      <td>5705.5</td>\n",
              "      <td>81000.0</td>\n",
              "    </tr>\n",
              "    <tr>\n",
              "      <th>CoapplicantIncome</th>\n",
              "      <td>491.0</td>\n",
              "      <td>1589.730998</td>\n",
              "      <td>2919.320624</td>\n",
              "      <td>0.0</td>\n",
              "      <td>0.0</td>\n",
              "      <td>1229.0</td>\n",
              "      <td>2251.5</td>\n",
              "      <td>41667.0</td>\n",
              "    </tr>\n",
              "    <tr>\n",
              "      <th>LoanAmount</th>\n",
              "      <td>475.0</td>\n",
              "      <td>145.014737</td>\n",
              "      <td>86.310534</td>\n",
              "      <td>17.0</td>\n",
              "      <td>100.0</td>\n",
              "      <td>126.0</td>\n",
              "      <td>162.0</td>\n",
              "      <td>700.0</td>\n",
              "    </tr>\n",
              "    <tr>\n",
              "      <th>Loan_Amount_Term</th>\n",
              "      <td>478.0</td>\n",
              "      <td>341.297071</td>\n",
              "      <td>66.964051</td>\n",
              "      <td>12.0</td>\n",
              "      <td>360.0</td>\n",
              "      <td>360.0</td>\n",
              "      <td>360.0</td>\n",
              "      <td>480.0</td>\n",
              "    </tr>\n",
              "    <tr>\n",
              "      <th>Credit_History</th>\n",
              "      <td>448.0</td>\n",
              "      <td>0.848214</td>\n",
              "      <td>0.359214</td>\n",
              "      <td>0.0</td>\n",
              "      <td>1.0</td>\n",
              "      <td>1.0</td>\n",
              "      <td>1.0</td>\n",
              "      <td>1.0</td>\n",
              "    </tr>\n",
              "    <tr>\n",
              "      <th>Loan_Status</th>\n",
              "      <td>491.0</td>\n",
              "      <td>0.698574</td>\n",
              "      <td>0.459345</td>\n",
              "      <td>0.0</td>\n",
              "      <td>0.0</td>\n",
              "      <td>1.0</td>\n",
              "      <td>1.0</td>\n",
              "      <td>1.0</td>\n",
              "    </tr>\n",
              "  </tbody>\n",
              "</table>\n",
              "</div>"
            ],
            "text/plain": [
              "                   count         mean          std  ...     50%     75%      max\n",
              "Unnamed: 0         491.0   245.000000   141.883755  ...   245.0   367.5    490.0\n",
              "ApplicantIncome    491.0  5401.189409  6419.427177  ...  3865.0  5705.5  81000.0\n",
              "CoapplicantIncome  491.0  1589.730998  2919.320624  ...  1229.0  2251.5  41667.0\n",
              "LoanAmount         475.0   145.014737    86.310534  ...   126.0   162.0    700.0\n",
              "Loan_Amount_Term   478.0   341.297071    66.964051  ...   360.0   360.0    480.0\n",
              "Credit_History     448.0     0.848214     0.359214  ...     1.0     1.0      1.0\n",
              "Loan_Status        491.0     0.698574     0.459345  ...     1.0     1.0      1.0\n",
              "\n",
              "[7 rows x 8 columns]"
            ]
          },
          "metadata": {
            "tags": []
          },
          "execution_count": 4
        }
      ]
    },
    {
      "cell_type": "code",
      "metadata": {
        "colab": {
          "base_uri": "https://localhost:8080/"
        },
        "id": "Ai8SW0Db0GgF",
        "outputId": "429b1086-80e3-4e8b-d77b-013f08f73a57"
      },
      "source": [
        "#Getting more information on training data\r\n",
        "loan_data.info()"
      ],
      "execution_count": null,
      "outputs": [
        {
          "output_type": "stream",
          "text": [
            "<class 'pandas.core.frame.DataFrame'>\n",
            "RangeIndex: 491 entries, 0 to 490\n",
            "Data columns (total 14 columns):\n",
            " #   Column             Non-Null Count  Dtype  \n",
            "---  ------             --------------  -----  \n",
            " 0   Unnamed: 0         491 non-null    int64  \n",
            " 1   Loan_ID            491 non-null    object \n",
            " 2   Gender             481 non-null    object \n",
            " 3   Married            490 non-null    object \n",
            " 4   Dependents         482 non-null    object \n",
            " 5   Education          491 non-null    object \n",
            " 6   Self_Employed      462 non-null    object \n",
            " 7   ApplicantIncome    491 non-null    int64  \n",
            " 8   CoapplicantIncome  491 non-null    float64\n",
            " 9   LoanAmount         475 non-null    float64\n",
            " 10  Loan_Amount_Term   478 non-null    float64\n",
            " 11  Credit_History     448 non-null    float64\n",
            " 12  Property_Area      491 non-null    object \n",
            " 13  Loan_Status        491 non-null    int64  \n",
            "dtypes: float64(4), int64(3), object(7)\n",
            "memory usage: 53.8+ KB\n"
          ],
          "name": "stdout"
        }
      ]
    },
    {
      "cell_type": "markdown",
      "metadata": {
        "id": "EMLPx_bA16va"
      },
      "source": [
        "#Preprocessing the data"
      ]
    },
    {
      "cell_type": "code",
      "metadata": {
        "colab": {
          "base_uri": "https://localhost:8080/"
        },
        "id": "yEuAX66y1c7k",
        "outputId": "0656d6e8-333b-4bf2-fb6e-3cbc0b9cfcb8"
      },
      "source": [
        "#Removing irrelevant coulumns\r\n",
        "loan_data.drop(columns=['Unnamed: 0', 'Loan_ID'], axis=1, inplace= True)\r\n",
        "test_data.drop('Loan_ID', axis=1, inplace= True)\r\n",
        "\r\n",
        "#Checking null values in the dataset\r\n",
        "loan_data.isnull().sum()"
      ],
      "execution_count": null,
      "outputs": [
        {
          "output_type": "execute_result",
          "data": {
            "text/plain": [
              "Gender               10\n",
              "Married               1\n",
              "Dependents            9\n",
              "Education             0\n",
              "Self_Employed        29\n",
              "ApplicantIncome       0\n",
              "CoapplicantIncome     0\n",
              "LoanAmount           16\n",
              "Loan_Amount_Term     13\n",
              "Credit_History       43\n",
              "Property_Area         0\n",
              "Loan_Status           0\n",
              "dtype: int64"
            ]
          },
          "metadata": {
            "tags": []
          },
          "execution_count": 6
        }
      ]
    },
    {
      "cell_type": "markdown",
      "metadata": {
        "id": "loFPvfxME5-Q"
      },
      "source": [
        "**Filling up missing values and converting categorical data into ordinal**"
      ]
    },
    {
      "cell_type": "code",
      "metadata": {
        "colab": {
          "base_uri": "https://localhost:8080/"
        },
        "id": "5Hd-IVQ-20rv",
        "outputId": "51a501db-6b0a-4a56-f2d9-2312c8e5ce3c"
      },
      "source": [
        "#Checking the demographics\r\n",
        "loan_data['Gender'].value_counts()"
      ],
      "execution_count": null,
      "outputs": [
        {
          "output_type": "execute_result",
          "data": {
            "text/plain": [
              "Male      393\n",
              "Female     88\n",
              "Name: Gender, dtype: int64"
            ]
          },
          "metadata": {
            "tags": []
          },
          "execution_count": 7
        }
      ]
    },
    {
      "cell_type": "code",
      "metadata": {
        "id": "DPH4cSHR2PrG",
        "colab": {
          "base_uri": "https://localhost:8080/"
        },
        "outputId": "b1c358b0-f924-4277-fa35-c026ae16d709"
      },
      "source": [
        "#Label encoding Male:1 , Female : 0 and making all the null values female\r\n",
        "loan_data['Gender']= loan_data['Gender'].apply(lambda x: 1 if x == 'Male' else 0)\r\n",
        "test_data['Gender']= test_data['Gender'].apply(lambda x: 1 if x == 'Male' else 0)\r\n",
        "loan_data['Gender'].isnull().sum()"
      ],
      "execution_count": null,
      "outputs": [
        {
          "output_type": "execute_result",
          "data": {
            "text/plain": [
              "0"
            ]
          },
          "metadata": {
            "tags": []
          },
          "execution_count": 8
        }
      ]
    },
    {
      "cell_type": "code",
      "metadata": {
        "colab": {
          "base_uri": "https://localhost:8080/"
        },
        "id": "4Z_RWOjC3t-S",
        "outputId": "359a15a3-b5c6-449f-e375-491e723e0ae0"
      },
      "source": [
        "#Label Encoding  Yes: 1, No : 0 and making all null values No\r\n",
        "loan_data['Married']= loan_data.Married.apply(lambda x: 1 if x == \"Yes\" else 0)\r\n",
        "test_data['Married']= test_data.Married.apply(lambda x: 1 if x == \"Yes\" else 0)\r\n",
        "\r\n",
        "loan_data['Married'].isnull().sum()"
      ],
      "execution_count": null,
      "outputs": [
        {
          "output_type": "execute_result",
          "data": {
            "text/plain": [
              "0"
            ]
          },
          "metadata": {
            "tags": []
          },
          "execution_count": 9
        }
      ]
    },
    {
      "cell_type": "code",
      "metadata": {
        "id": "5n4MJqrU7XHs"
      },
      "source": [
        "#Converting datatypes into categories\r\n",
        "loan_data['Dependents']= loan_data.Dependents.astype('category')\r\n",
        "test_data['Dependents']= test_data.Dependents.astype('category')\r\n",
        "\r\n",
        "#Filling missing values as 0\r\n",
        "loan_data['Dependents'].fillna(\"0\", inplace = True)"
      ],
      "execution_count": null,
      "outputs": []
    },
    {
      "cell_type": "code",
      "metadata": {
        "colab": {
          "base_uri": "https://localhost:8080/"
        },
        "id": "-OSIpULR8XTc",
        "outputId": "41d50df9-4bfe-40dc-b436-301dfad200e5"
      },
      "source": [
        "#Displaying value counts of categories\r\n",
        "loan_data['Dependents'].value_counts()"
      ],
      "execution_count": null,
      "outputs": [
        {
          "output_type": "execute_result",
          "data": {
            "text/plain": [
              "0     285\n",
              "1      85\n",
              "2      78\n",
              "3+     43\n",
              "Name: Dependents, dtype: int64"
            ]
          },
          "metadata": {
            "tags": []
          },
          "execution_count": 11
        }
      ]
    },
    {
      "cell_type": "code",
      "metadata": {
        "colab": {
          "base_uri": "https://localhost:8080/"
        },
        "id": "s-8X2-x74Y9B",
        "outputId": "c8dbe9cc-256d-4349-da31-ffd993f606ce"
      },
      "source": [
        "loan_data['Self_Employed'].value_counts()"
      ],
      "execution_count": null,
      "outputs": [
        {
          "output_type": "execute_result",
          "data": {
            "text/plain": [
              "No     398\n",
              "Yes     64\n",
              "Name: Self_Employed, dtype: int64"
            ]
          },
          "metadata": {
            "tags": []
          },
          "execution_count": 12
        }
      ]
    },
    {
      "cell_type": "code",
      "metadata": {
        "id": "4viv25cx8yY1"
      },
      "source": [
        "#Label Encoding Yes : 1, No : 0 and making null values 0 in both train and test set\r\n",
        "loan_data['Self_Employed'] = loan_data.Self_Employed.apply(lambda x: 1 if x == 'Yes' else 0)\r\n",
        "\r\n",
        "test_data['Self_Employed'] = test_data.Self_Employed.apply(lambda x: 1 if x == 'Yes' else 0)"
      ],
      "execution_count": null,
      "outputs": []
    },
    {
      "cell_type": "code",
      "metadata": {
        "id": "Ukk2gireCNzw"
      },
      "source": [
        "#Imputing null values as mean and median accordingly\r\n",
        "loan_data['LoanAmount'].fillna(loan_data['LoanAmount'].median(), inplace= True)\r\n",
        "loan_data['Loan_Amount_Term'].fillna(loan_data['Loan_Amount_Term'].mean(), inplace= True)\r\n",
        "\r\n",
        "test_data['LoanAmount'].fillna(test_data['LoanAmount'].median(), inplace= True)\r\n",
        "test_data['Loan_Amount_Term'].fillna(test_data['Loan_Amount_Term'].mean(), inplace= True)"
      ],
      "execution_count": null,
      "outputs": []
    },
    {
      "cell_type": "code",
      "metadata": {
        "colab": {
          "base_uri": "https://localhost:8080/"
        },
        "id": "Dz7wyrpQDqUh",
        "outputId": "efc0cedf-2631-4730-9870-fb40add6c9cc"
      },
      "source": [
        "#Chceking value counts of Credit_History\r\n",
        "loan_data['Credit_History'].value_counts()"
      ],
      "execution_count": null,
      "outputs": [
        {
          "output_type": "execute_result",
          "data": {
            "text/plain": [
              "1.0    380\n",
              "0.0     68\n",
              "Name: Credit_History, dtype: int64"
            ]
          },
          "metadata": {
            "tags": []
          },
          "execution_count": 15
        }
      ]
    },
    {
      "cell_type": "code",
      "metadata": {
        "id": "jQNndQgwEs5Z"
      },
      "source": [
        "#Filling null values as 1 i.e most frequent\r\n",
        "loan_data['Credit_History'].fillna(1, inplace= True)\r\n",
        "\r\n",
        "test_data['Credit_History'].fillna(1, inplace= True)"
      ],
      "execution_count": null,
      "outputs": []
    },
    {
      "cell_type": "code",
      "metadata": {
        "colab": {
          "base_uri": "https://localhost:8080/"
        },
        "id": "HX96kPgmHqaZ",
        "outputId": "8abcf763-349c-45df-c012-a6d4754631be"
      },
      "source": [
        "#Checking null values in the dataset and there is none\r\n",
        "loan_data.isnull().sum()"
      ],
      "execution_count": null,
      "outputs": [
        {
          "output_type": "execute_result",
          "data": {
            "text/plain": [
              "Gender               0\n",
              "Married              0\n",
              "Dependents           0\n",
              "Education            0\n",
              "Self_Employed        0\n",
              "ApplicantIncome      0\n",
              "CoapplicantIncome    0\n",
              "LoanAmount           0\n",
              "Loan_Amount_Term     0\n",
              "Credit_History       0\n",
              "Property_Area        0\n",
              "Loan_Status          0\n",
              "dtype: int64"
            ]
          },
          "metadata": {
            "tags": []
          },
          "execution_count": 17
        }
      ]
    },
    {
      "cell_type": "code",
      "metadata": {
        "id": "T5xma4GbH0uW"
      },
      "source": [
        "# Label Encoding \"Not Graduate\": 0 , \"Graduate\" : 1 and missing values will be 1\r\n",
        "loan_data['Education']= loan_data.Education.apply(lambda x: 0 if x== 'Not Graduate' else 1)\r\n",
        "test_data['Education']= test_data.Education.apply(lambda x: 0 if x== 'Not Graduate' else 1)\r\n",
        "\r\n",
        "#Chaniging the datatype as category for these columns\r\n",
        "loan_data['Property_Area']= loan_data['Property_Area'].astype('category')\r\n",
        "test_data['Property_Area']= test_data['Property_Area'].astype('category')"
      ],
      "execution_count": null,
      "outputs": []
    },
    {
      "cell_type": "code",
      "metadata": {
        "colab": {
          "base_uri": "https://localhost:8080/",
          "height": 224
        },
        "id": "Cu6JQZA0IxoS",
        "outputId": "f283696a-9e98-4e8f-c1b6-54baf0da21d9"
      },
      "source": [
        "#One Hot Encoding the datasets\r\n",
        "loan_data = pd.get_dummies(loan_data)\r\n",
        "\r\n",
        "test_data= pd.get_dummies(test_data)\r\n",
        "loan_data.head()"
      ],
      "execution_count": null,
      "outputs": [
        {
          "output_type": "execute_result",
          "data": {
            "text/html": [
              "<div>\n",
              "<style scoped>\n",
              "    .dataframe tbody tr th:only-of-type {\n",
              "        vertical-align: middle;\n",
              "    }\n",
              "\n",
              "    .dataframe tbody tr th {\n",
              "        vertical-align: top;\n",
              "    }\n",
              "\n",
              "    .dataframe thead th {\n",
              "        text-align: right;\n",
              "    }\n",
              "</style>\n",
              "<table border=\"1\" class=\"dataframe\">\n",
              "  <thead>\n",
              "    <tr style=\"text-align: right;\">\n",
              "      <th></th>\n",
              "      <th>Gender</th>\n",
              "      <th>Married</th>\n",
              "      <th>Education</th>\n",
              "      <th>Self_Employed</th>\n",
              "      <th>ApplicantIncome</th>\n",
              "      <th>CoapplicantIncome</th>\n",
              "      <th>LoanAmount</th>\n",
              "      <th>Loan_Amount_Term</th>\n",
              "      <th>Credit_History</th>\n",
              "      <th>Loan_Status</th>\n",
              "      <th>Dependents_0</th>\n",
              "      <th>Dependents_1</th>\n",
              "      <th>Dependents_2</th>\n",
              "      <th>Dependents_3+</th>\n",
              "      <th>Property_Area_Rural</th>\n",
              "      <th>Property_Area_Semiurban</th>\n",
              "      <th>Property_Area_Urban</th>\n",
              "    </tr>\n",
              "  </thead>\n",
              "  <tbody>\n",
              "    <tr>\n",
              "      <th>0</th>\n",
              "      <td>0</td>\n",
              "      <td>0</td>\n",
              "      <td>1</td>\n",
              "      <td>0</td>\n",
              "      <td>4547</td>\n",
              "      <td>0.0</td>\n",
              "      <td>115.0</td>\n",
              "      <td>360.000000</td>\n",
              "      <td>1.0</td>\n",
              "      <td>1</td>\n",
              "      <td>1</td>\n",
              "      <td>0</td>\n",
              "      <td>0</td>\n",
              "      <td>0</td>\n",
              "      <td>0</td>\n",
              "      <td>1</td>\n",
              "      <td>0</td>\n",
              "    </tr>\n",
              "    <tr>\n",
              "      <th>1</th>\n",
              "      <td>1</td>\n",
              "      <td>1</td>\n",
              "      <td>0</td>\n",
              "      <td>1</td>\n",
              "      <td>5703</td>\n",
              "      <td>0.0</td>\n",
              "      <td>130.0</td>\n",
              "      <td>360.000000</td>\n",
              "      <td>1.0</td>\n",
              "      <td>1</td>\n",
              "      <td>0</td>\n",
              "      <td>0</td>\n",
              "      <td>0</td>\n",
              "      <td>1</td>\n",
              "      <td>1</td>\n",
              "      <td>0</td>\n",
              "      <td>0</td>\n",
              "    </tr>\n",
              "    <tr>\n",
              "      <th>2</th>\n",
              "      <td>0</td>\n",
              "      <td>1</td>\n",
              "      <td>1</td>\n",
              "      <td>0</td>\n",
              "      <td>4333</td>\n",
              "      <td>2451.0</td>\n",
              "      <td>110.0</td>\n",
              "      <td>360.000000</td>\n",
              "      <td>1.0</td>\n",
              "      <td>0</td>\n",
              "      <td>1</td>\n",
              "      <td>0</td>\n",
              "      <td>0</td>\n",
              "      <td>0</td>\n",
              "      <td>0</td>\n",
              "      <td>0</td>\n",
              "      <td>1</td>\n",
              "    </tr>\n",
              "    <tr>\n",
              "      <th>3</th>\n",
              "      <td>1</td>\n",
              "      <td>1</td>\n",
              "      <td>0</td>\n",
              "      <td>1</td>\n",
              "      <td>4695</td>\n",
              "      <td>0.0</td>\n",
              "      <td>96.0</td>\n",
              "      <td>341.297071</td>\n",
              "      <td>1.0</td>\n",
              "      <td>1</td>\n",
              "      <td>1</td>\n",
              "      <td>0</td>\n",
              "      <td>0</td>\n",
              "      <td>0</td>\n",
              "      <td>0</td>\n",
              "      <td>0</td>\n",
              "      <td>1</td>\n",
              "    </tr>\n",
              "    <tr>\n",
              "      <th>4</th>\n",
              "      <td>1</td>\n",
              "      <td>1</td>\n",
              "      <td>1</td>\n",
              "      <td>0</td>\n",
              "      <td>6700</td>\n",
              "      <td>1750.0</td>\n",
              "      <td>230.0</td>\n",
              "      <td>300.000000</td>\n",
              "      <td>1.0</td>\n",
              "      <td>1</td>\n",
              "      <td>0</td>\n",
              "      <td>0</td>\n",
              "      <td>1</td>\n",
              "      <td>0</td>\n",
              "      <td>0</td>\n",
              "      <td>1</td>\n",
              "      <td>0</td>\n",
              "    </tr>\n",
              "  </tbody>\n",
              "</table>\n",
              "</div>"
            ],
            "text/plain": [
              "   Gender  Married  ...  Property_Area_Semiurban  Property_Area_Urban\n",
              "0       0        0  ...                        1                    0\n",
              "1       1        1  ...                        0                    0\n",
              "2       0        1  ...                        0                    1\n",
              "3       1        1  ...                        0                    1\n",
              "4       1        1  ...                        1                    0\n",
              "\n",
              "[5 rows x 17 columns]"
            ]
          },
          "metadata": {
            "tags": []
          },
          "execution_count": 19
        }
      ]
    },
    {
      "cell_type": "code",
      "metadata": {
        "id": "4OfP6S-WJCYQ"
      },
      "source": [
        "#Separating features and label\r\n",
        "test_data.drop(columns= ['Self_Employed', 'ApplicantIncome', 'CoapplicantIncome', 'LoanAmount', 'Loan_Amount_Term', ], axis=1, inplace= True)\r\n",
        "X= loan_data.drop(columns= ['Loan_Status','Self_Employed', 'ApplicantIncome', 'CoapplicantIncome', 'LoanAmount', 'Loan_Amount_Term', ], axis=1)\r\n",
        "y= loan_data['Loan_Status']"
      ],
      "execution_count": null,
      "outputs": []
    },
    {
      "cell_type": "code",
      "metadata": {
        "id": "pxUxovvlJNUe"
      },
      "source": [
        "#Splitting the data into training and validation set\r\n",
        "from sklearn.model_selection import train_test_split\r\n",
        "\r\n",
        "X_train, X_test, y_train, y_test= train_test_split(X,y, test_size= 0.2, random_state= 42)"
      ],
      "execution_count": null,
      "outputs": []
    },
    {
      "cell_type": "markdown",
      "metadata": {
        "id": "8MC61yD644vH"
      },
      "source": [
        "#Training Logistic regression model"
      ]
    },
    {
      "cell_type": "code",
      "metadata": {
        "colab": {
          "base_uri": "https://localhost:8080/"
        },
        "id": "UYe8AKj7gNlw",
        "outputId": "5fce5e96-32a2-49f7-8694-9babf47130e2"
      },
      "source": [
        "#Training Logistic Regression model\r\n",
        "from sklearn.linear_model import LogisticRegression\r\n",
        "\r\n",
        "model_LR= LogisticRegression()\r\n",
        "model_LR.fit(X_train, y_train)"
      ],
      "execution_count": null,
      "outputs": [
        {
          "output_type": "execute_result",
          "data": {
            "text/plain": [
              "LogisticRegression(C=1.0, class_weight=None, dual=False, fit_intercept=True,\n",
              "                   intercept_scaling=1, l1_ratio=None, max_iter=100,\n",
              "                   multi_class='auto', n_jobs=None, penalty='l2',\n",
              "                   random_state=None, solver='lbfgs', tol=0.0001, verbose=0,\n",
              "                   warm_start=False)"
            ]
          },
          "metadata": {
            "tags": []
          },
          "execution_count": 22
        }
      ]
    },
    {
      "cell_type": "code",
      "metadata": {
        "colab": {
          "base_uri": "https://localhost:8080/"
        },
        "id": "9cr89iMUgc34",
        "outputId": "8a633e96-6870-4d58-a29d-39cbe1cfce5b"
      },
      "source": [
        "#Checking cross validation score\r\n",
        "from sklearn.model_selection import cross_val_score\r\n",
        "\r\n",
        "cross_val_score(model_LR, X_train,y_train, cv= 5)"
      ],
      "execution_count": null,
      "outputs": [
        {
          "output_type": "execute_result",
          "data": {
            "text/plain": [
              "array([0.82278481, 0.79746835, 0.78205128, 0.83333333, 0.79487179])"
            ]
          },
          "metadata": {
            "tags": []
          },
          "execution_count": 23
        }
      ]
    },
    {
      "cell_type": "code",
      "metadata": {
        "colab": {
          "base_uri": "https://localhost:8080/"
        },
        "id": "3XBTCKPfg2YP",
        "outputId": "776935ce-89b6-45f0-8d8a-fe662b16f8da"
      },
      "source": [
        "#Selecting the important features\r\n",
        "from sklearn.feature_selection import RFE\r\n",
        "\r\n",
        "LR= LogisticRegression()\r\n",
        "selector= RFE(LR, step=1)\r\n",
        "selector.fit(X_train, y_train)\r\n",
        "\r\n",
        "print(\"Number of features selected for the model to train on: {}\".format(selector.support_.sum()))\r\n",
        "print(\"\\n\")\r\n",
        "print(\"The ranking of all the features are as follows: \")\r\n",
        "selector.ranking_"
      ],
      "execution_count": null,
      "outputs": [
        {
          "output_type": "stream",
          "text": [
            "Number of features selected for the model to train on: 5\n",
            "\n",
            "\n",
            "The ranking of all the features are as follows: \n"
          ],
          "name": "stdout"
        },
        {
          "output_type": "execute_result",
          "data": {
            "text/plain": [
              "array([5, 1, 3, 1, 7, 1, 1, 6, 2, 1, 4])"
            ]
          },
          "metadata": {
            "tags": []
          },
          "execution_count": 24
        }
      ]
    },
    {
      "cell_type": "code",
      "metadata": {
        "colab": {
          "base_uri": "https://localhost:8080/"
        },
        "id": "1kfPVkOQh9RD",
        "outputId": "6cc8f203-103c-434e-cf60-b4b767702ba0"
      },
      "source": [
        "#Predicting on the validation set and checking its accuracy and f1 score\r\n",
        "from sklearn.metrics import accuracy_score, f1_score\r\n",
        "\r\n",
        "y_pred_RFE= selector.predict(X_test)\r\n",
        "print(accuracy_score(y_pred_RFE, y_test))\r\n",
        "print(f1_score(y_pred_RFE, y_test))"
      ],
      "execution_count": null,
      "outputs": [
        {
          "output_type": "stream",
          "text": [
            "0.8282828282828283\n",
            "0.8843537414965986\n"
          ],
          "name": "stdout"
        }
      ]
    },
    {
      "cell_type": "code",
      "metadata": {
        "id": "4D1Fp1GFjUO_"
      },
      "source": [
        "prediction= selector.predict(test_data)\r\n",
        "prediction_df= pd.DataFrame(prediction, columns=['prediction'])\r\n",
        "prediction_df.to_csv('prediction.csv', index= False)"
      ],
      "execution_count": null,
      "outputs": []
    },
    {
      "cell_type": "markdown",
      "metadata": {
        "id": "YPjOrcIL5tF5"
      },
      "source": [
        "#Saving the model"
      ]
    },
    {
      "cell_type": "code",
      "metadata": {
        "id": "X9aqPZCN1BKl"
      },
      "source": [
        "import pickle\r\n",
        "with open('loan_predictor.pickle', 'wb') as f:\r\n",
        "  pickle.dump(selector, f)"
      ],
      "execution_count": null,
      "outputs": []
    },
    {
      "cell_type": "code",
      "metadata": {
        "id": "NhICJgTO60zA"
      },
      "source": [
        "import json\r\n",
        "\r\n",
        "columns= {\r\n",
        "    'data_columns' : [col.lower() for col in X.columns]\r\n",
        "}\r\n",
        "with open('columns.json', 'w') as f:\r\n",
        "  f.write(json.dumps(columns))\r\n"
      ],
      "execution_count": null,
      "outputs": []
    }
  ]
}