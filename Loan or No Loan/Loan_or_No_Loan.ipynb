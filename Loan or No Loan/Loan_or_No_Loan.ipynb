{
  "nbformat": 4,
  "nbformat_minor": 0,
  "metadata": {
    "colab": {
      "name": "Loan or No Loan.ipynb",
      "provenance": [],
      "collapsed_sections": []
    },
    "kernelspec": {
      "name": "python3",
      "display_name": "Python 3"
    }
  },
  "cells": [
    {
      "cell_type": "code",
      "metadata": {
        "id": "I93wUlYrvo2U"
      },
      "source": [
        "import numpy as np\r\n",
        "import pandas as pd\r\n",
        "\r\n",
        "import matplotlib.pyplot as plt\r\n",
        "import seaborn as sns\r\n",
        "%matplotlib inline\r\n",
        "\r\n",
        "import warnings\r\n",
        "warnings.filterwarnings(\"ignore\")"
      ],
      "execution_count": null,
      "outputs": []
    },
    {
      "cell_type": "code",
      "metadata": {
        "colab": {
          "base_uri": "https://localhost:8080/",
          "height": 275
        },
        "id": "vmPdsxIAzwuO",
        "outputId": "fc0d7ae7-5b7e-496d-ac9c-9a594c8dfef0"
      },
      "source": [
        "loan_data  = pd.read_csv(\"https://raw.githubusercontent.com/dphi-official/Datasets/master/Loan_Data/loan_train.csv\" )\r\n",
        "test_data= pd.read_csv('https://raw.githubusercontent.com/dphi-official/Datasets/master/Loan_Data/loan_test.csv')\r\n",
        "\r\n",
        "loan_data.head()"
      ],
      "execution_count": null,
      "outputs": [
        {
          "output_type": "execute_result",
          "data": {
            "text/html": [
              "<div>\n",
              "<style scoped>\n",
              "    .dataframe tbody tr th:only-of-type {\n",
              "        vertical-align: middle;\n",
              "    }\n",
              "\n",
              "    .dataframe tbody tr th {\n",
              "        vertical-align: top;\n",
              "    }\n",
              "\n",
              "    .dataframe thead th {\n",
              "        text-align: right;\n",
              "    }\n",
              "</style>\n",
              "<table border=\"1\" class=\"dataframe\">\n",
              "  <thead>\n",
              "    <tr style=\"text-align: right;\">\n",
              "      <th></th>\n",
              "      <th>Unnamed: 0</th>\n",
              "      <th>Loan_ID</th>\n",
              "      <th>Gender</th>\n",
              "      <th>Married</th>\n",
              "      <th>Dependents</th>\n",
              "      <th>Education</th>\n",
              "      <th>Self_Employed</th>\n",
              "      <th>ApplicantIncome</th>\n",
              "      <th>CoapplicantIncome</th>\n",
              "      <th>LoanAmount</th>\n",
              "      <th>Loan_Amount_Term</th>\n",
              "      <th>Credit_History</th>\n",
              "      <th>Property_Area</th>\n",
              "      <th>Loan_Status</th>\n",
              "    </tr>\n",
              "  </thead>\n",
              "  <tbody>\n",
              "    <tr>\n",
              "      <th>0</th>\n",
              "      <td>0</td>\n",
              "      <td>LP002305</td>\n",
              "      <td>Female</td>\n",
              "      <td>No</td>\n",
              "      <td>0</td>\n",
              "      <td>Graduate</td>\n",
              "      <td>No</td>\n",
              "      <td>4547</td>\n",
              "      <td>0.0</td>\n",
              "      <td>115.0</td>\n",
              "      <td>360.0</td>\n",
              "      <td>1.0</td>\n",
              "      <td>Semiurban</td>\n",
              "      <td>1</td>\n",
              "    </tr>\n",
              "    <tr>\n",
              "      <th>1</th>\n",
              "      <td>1</td>\n",
              "      <td>LP001715</td>\n",
              "      <td>Male</td>\n",
              "      <td>Yes</td>\n",
              "      <td>3+</td>\n",
              "      <td>Not Graduate</td>\n",
              "      <td>Yes</td>\n",
              "      <td>5703</td>\n",
              "      <td>0.0</td>\n",
              "      <td>130.0</td>\n",
              "      <td>360.0</td>\n",
              "      <td>1.0</td>\n",
              "      <td>Rural</td>\n",
              "      <td>1</td>\n",
              "    </tr>\n",
              "    <tr>\n",
              "      <th>2</th>\n",
              "      <td>2</td>\n",
              "      <td>LP002086</td>\n",
              "      <td>Female</td>\n",
              "      <td>Yes</td>\n",
              "      <td>0</td>\n",
              "      <td>Graduate</td>\n",
              "      <td>No</td>\n",
              "      <td>4333</td>\n",
              "      <td>2451.0</td>\n",
              "      <td>110.0</td>\n",
              "      <td>360.0</td>\n",
              "      <td>1.0</td>\n",
              "      <td>Urban</td>\n",
              "      <td>0</td>\n",
              "    </tr>\n",
              "    <tr>\n",
              "      <th>3</th>\n",
              "      <td>3</td>\n",
              "      <td>LP001136</td>\n",
              "      <td>Male</td>\n",
              "      <td>Yes</td>\n",
              "      <td>0</td>\n",
              "      <td>Not Graduate</td>\n",
              "      <td>Yes</td>\n",
              "      <td>4695</td>\n",
              "      <td>0.0</td>\n",
              "      <td>96.0</td>\n",
              "      <td>NaN</td>\n",
              "      <td>1.0</td>\n",
              "      <td>Urban</td>\n",
              "      <td>1</td>\n",
              "    </tr>\n",
              "    <tr>\n",
              "      <th>4</th>\n",
              "      <td>4</td>\n",
              "      <td>LP002529</td>\n",
              "      <td>Male</td>\n",
              "      <td>Yes</td>\n",
              "      <td>2</td>\n",
              "      <td>Graduate</td>\n",
              "      <td>No</td>\n",
              "      <td>6700</td>\n",
              "      <td>1750.0</td>\n",
              "      <td>230.0</td>\n",
              "      <td>300.0</td>\n",
              "      <td>1.0</td>\n",
              "      <td>Semiurban</td>\n",
              "      <td>1</td>\n",
              "    </tr>\n",
              "  </tbody>\n",
              "</table>\n",
              "</div>"
            ],
            "text/plain": [
              "   Unnamed: 0   Loan_ID  Gender  ... Credit_History Property_Area Loan_Status\n",
              "0           0  LP002305  Female  ...            1.0     Semiurban           1\n",
              "1           1  LP001715    Male  ...            1.0         Rural           1\n",
              "2           2  LP002086  Female  ...            1.0         Urban           0\n",
              "3           3  LP001136    Male  ...            1.0         Urban           1\n",
              "4           4  LP002529    Male  ...            1.0     Semiurban           1\n",
              "\n",
              "[5 rows x 14 columns]"
            ]
          },
          "metadata": {
            "tags": []
          },
          "execution_count": 2
        }
      ]
    },
    {
      "cell_type": "code",
      "metadata": {
        "colab": {
          "base_uri": "https://localhost:8080/",
          "height": 275
        },
        "id": "DKEOzpMa0QbH",
        "outputId": "5c1b5dbc-2ef6-4e35-b743-0f038df51a06"
      },
      "source": [
        "test_data.head()"
      ],
      "execution_count": null,
      "outputs": [
        {
          "output_type": "execute_result",
          "data": {
            "text/html": [
              "<div>\n",
              "<style scoped>\n",
              "    .dataframe tbody tr th:only-of-type {\n",
              "        vertical-align: middle;\n",
              "    }\n",
              "\n",
              "    .dataframe tbody tr th {\n",
              "        vertical-align: top;\n",
              "    }\n",
              "\n",
              "    .dataframe thead th {\n",
              "        text-align: right;\n",
              "    }\n",
              "</style>\n",
              "<table border=\"1\" class=\"dataframe\">\n",
              "  <thead>\n",
              "    <tr style=\"text-align: right;\">\n",
              "      <th></th>\n",
              "      <th>Loan_ID</th>\n",
              "      <th>Gender</th>\n",
              "      <th>Married</th>\n",
              "      <th>Dependents</th>\n",
              "      <th>Education</th>\n",
              "      <th>Self_Employed</th>\n",
              "      <th>ApplicantIncome</th>\n",
              "      <th>CoapplicantIncome</th>\n",
              "      <th>LoanAmount</th>\n",
              "      <th>Loan_Amount_Term</th>\n",
              "      <th>Credit_History</th>\n",
              "      <th>Property_Area</th>\n",
              "    </tr>\n",
              "  </thead>\n",
              "  <tbody>\n",
              "    <tr>\n",
              "      <th>0</th>\n",
              "      <td>LP001116</td>\n",
              "      <td>Male</td>\n",
              "      <td>No</td>\n",
              "      <td>0</td>\n",
              "      <td>Not Graduate</td>\n",
              "      <td>No</td>\n",
              "      <td>3748</td>\n",
              "      <td>1668.0</td>\n",
              "      <td>110.0</td>\n",
              "      <td>360.0</td>\n",
              "      <td>1.0</td>\n",
              "      <td>Semiurban</td>\n",
              "    </tr>\n",
              "    <tr>\n",
              "      <th>1</th>\n",
              "      <td>LP001488</td>\n",
              "      <td>Male</td>\n",
              "      <td>Yes</td>\n",
              "      <td>3+</td>\n",
              "      <td>Graduate</td>\n",
              "      <td>No</td>\n",
              "      <td>4000</td>\n",
              "      <td>7750.0</td>\n",
              "      <td>290.0</td>\n",
              "      <td>360.0</td>\n",
              "      <td>1.0</td>\n",
              "      <td>Semiurban</td>\n",
              "    </tr>\n",
              "    <tr>\n",
              "      <th>2</th>\n",
              "      <td>LP002138</td>\n",
              "      <td>Male</td>\n",
              "      <td>Yes</td>\n",
              "      <td>0</td>\n",
              "      <td>Graduate</td>\n",
              "      <td>No</td>\n",
              "      <td>2625</td>\n",
              "      <td>6250.0</td>\n",
              "      <td>187.0</td>\n",
              "      <td>360.0</td>\n",
              "      <td>1.0</td>\n",
              "      <td>Rural</td>\n",
              "    </tr>\n",
              "    <tr>\n",
              "      <th>3</th>\n",
              "      <td>LP002284</td>\n",
              "      <td>Male</td>\n",
              "      <td>No</td>\n",
              "      <td>0</td>\n",
              "      <td>Not Graduate</td>\n",
              "      <td>No</td>\n",
              "      <td>3902</td>\n",
              "      <td>1666.0</td>\n",
              "      <td>109.0</td>\n",
              "      <td>360.0</td>\n",
              "      <td>1.0</td>\n",
              "      <td>Rural</td>\n",
              "    </tr>\n",
              "    <tr>\n",
              "      <th>4</th>\n",
              "      <td>LP002328</td>\n",
              "      <td>Male</td>\n",
              "      <td>Yes</td>\n",
              "      <td>0</td>\n",
              "      <td>Not Graduate</td>\n",
              "      <td>No</td>\n",
              "      <td>6096</td>\n",
              "      <td>0.0</td>\n",
              "      <td>218.0</td>\n",
              "      <td>360.0</td>\n",
              "      <td>0.0</td>\n",
              "      <td>Rural</td>\n",
              "    </tr>\n",
              "  </tbody>\n",
              "</table>\n",
              "</div>"
            ],
            "text/plain": [
              "    Loan_ID Gender Married  ... Loan_Amount_Term Credit_History Property_Area\n",
              "0  LP001116   Male      No  ...            360.0            1.0     Semiurban\n",
              "1  LP001488   Male     Yes  ...            360.0            1.0     Semiurban\n",
              "2  LP002138   Male     Yes  ...            360.0            1.0         Rural\n",
              "3  LP002284   Male      No  ...            360.0            1.0         Rural\n",
              "4  LP002328   Male     Yes  ...            360.0            0.0         Rural\n",
              "\n",
              "[5 rows x 12 columns]"
            ]
          },
          "metadata": {
            "tags": []
          },
          "execution_count": 3
        }
      ]
    },
    {
      "cell_type": "code",
      "metadata": {
        "colab": {
          "base_uri": "https://localhost:8080/",
          "height": 266
        },
        "id": "mgyD4wwg0Cny",
        "outputId": "9492fc0c-b8b6-4d56-a619-d68e861ad937"
      },
      "source": [
        "loan_data.describe().transpose()"
      ],
      "execution_count": null,
      "outputs": [
        {
          "output_type": "execute_result",
          "data": {
            "text/html": [
              "<div>\n",
              "<style scoped>\n",
              "    .dataframe tbody tr th:only-of-type {\n",
              "        vertical-align: middle;\n",
              "    }\n",
              "\n",
              "    .dataframe tbody tr th {\n",
              "        vertical-align: top;\n",
              "    }\n",
              "\n",
              "    .dataframe thead th {\n",
              "        text-align: right;\n",
              "    }\n",
              "</style>\n",
              "<table border=\"1\" class=\"dataframe\">\n",
              "  <thead>\n",
              "    <tr style=\"text-align: right;\">\n",
              "      <th></th>\n",
              "      <th>count</th>\n",
              "      <th>mean</th>\n",
              "      <th>std</th>\n",
              "      <th>min</th>\n",
              "      <th>25%</th>\n",
              "      <th>50%</th>\n",
              "      <th>75%</th>\n",
              "      <th>max</th>\n",
              "    </tr>\n",
              "  </thead>\n",
              "  <tbody>\n",
              "    <tr>\n",
              "      <th>Unnamed: 0</th>\n",
              "      <td>491.0</td>\n",
              "      <td>245.000000</td>\n",
              "      <td>141.883755</td>\n",
              "      <td>0.0</td>\n",
              "      <td>122.5</td>\n",
              "      <td>245.0</td>\n",
              "      <td>367.5</td>\n",
              "      <td>490.0</td>\n",
              "    </tr>\n",
              "    <tr>\n",
              "      <th>ApplicantIncome</th>\n",
              "      <td>491.0</td>\n",
              "      <td>5401.189409</td>\n",
              "      <td>6419.427177</td>\n",
              "      <td>150.0</td>\n",
              "      <td>2923.5</td>\n",
              "      <td>3865.0</td>\n",
              "      <td>5705.5</td>\n",
              "      <td>81000.0</td>\n",
              "    </tr>\n",
              "    <tr>\n",
              "      <th>CoapplicantIncome</th>\n",
              "      <td>491.0</td>\n",
              "      <td>1589.730998</td>\n",
              "      <td>2919.320624</td>\n",
              "      <td>0.0</td>\n",
              "      <td>0.0</td>\n",
              "      <td>1229.0</td>\n",
              "      <td>2251.5</td>\n",
              "      <td>41667.0</td>\n",
              "    </tr>\n",
              "    <tr>\n",
              "      <th>LoanAmount</th>\n",
              "      <td>475.0</td>\n",
              "      <td>145.014737</td>\n",
              "      <td>86.310534</td>\n",
              "      <td>17.0</td>\n",
              "      <td>100.0</td>\n",
              "      <td>126.0</td>\n",
              "      <td>162.0</td>\n",
              "      <td>700.0</td>\n",
              "    </tr>\n",
              "    <tr>\n",
              "      <th>Loan_Amount_Term</th>\n",
              "      <td>478.0</td>\n",
              "      <td>341.297071</td>\n",
              "      <td>66.964051</td>\n",
              "      <td>12.0</td>\n",
              "      <td>360.0</td>\n",
              "      <td>360.0</td>\n",
              "      <td>360.0</td>\n",
              "      <td>480.0</td>\n",
              "    </tr>\n",
              "    <tr>\n",
              "      <th>Credit_History</th>\n",
              "      <td>448.0</td>\n",
              "      <td>0.848214</td>\n",
              "      <td>0.359214</td>\n",
              "      <td>0.0</td>\n",
              "      <td>1.0</td>\n",
              "      <td>1.0</td>\n",
              "      <td>1.0</td>\n",
              "      <td>1.0</td>\n",
              "    </tr>\n",
              "    <tr>\n",
              "      <th>Loan_Status</th>\n",
              "      <td>491.0</td>\n",
              "      <td>0.698574</td>\n",
              "      <td>0.459345</td>\n",
              "      <td>0.0</td>\n",
              "      <td>0.0</td>\n",
              "      <td>1.0</td>\n",
              "      <td>1.0</td>\n",
              "      <td>1.0</td>\n",
              "    </tr>\n",
              "  </tbody>\n",
              "</table>\n",
              "</div>"
            ],
            "text/plain": [
              "                   count         mean          std  ...     50%     75%      max\n",
              "Unnamed: 0         491.0   245.000000   141.883755  ...   245.0   367.5    490.0\n",
              "ApplicantIncome    491.0  5401.189409  6419.427177  ...  3865.0  5705.5  81000.0\n",
              "CoapplicantIncome  491.0  1589.730998  2919.320624  ...  1229.0  2251.5  41667.0\n",
              "LoanAmount         475.0   145.014737    86.310534  ...   126.0   162.0    700.0\n",
              "Loan_Amount_Term   478.0   341.297071    66.964051  ...   360.0   360.0    480.0\n",
              "Credit_History     448.0     0.848214     0.359214  ...     1.0     1.0      1.0\n",
              "Loan_Status        491.0     0.698574     0.459345  ...     1.0     1.0      1.0\n",
              "\n",
              "[7 rows x 8 columns]"
            ]
          },
          "metadata": {
            "tags": []
          },
          "execution_count": 4
        }
      ]
    },
    {
      "cell_type": "code",
      "metadata": {
        "colab": {
          "base_uri": "https://localhost:8080/"
        },
        "id": "Ai8SW0Db0GgF",
        "outputId": "3eaef156-4df3-4dc9-af12-a80f566bf80b"
      },
      "source": [
        "loan_data.info()"
      ],
      "execution_count": null,
      "outputs": [
        {
          "output_type": "stream",
          "text": [
            "<class 'pandas.core.frame.DataFrame'>\n",
            "RangeIndex: 491 entries, 0 to 490\n",
            "Data columns (total 14 columns):\n",
            " #   Column             Non-Null Count  Dtype  \n",
            "---  ------             --------------  -----  \n",
            " 0   Unnamed: 0         491 non-null    int64  \n",
            " 1   Loan_ID            491 non-null    object \n",
            " 2   Gender             481 non-null    object \n",
            " 3   Married            490 non-null    object \n",
            " 4   Dependents         482 non-null    object \n",
            " 5   Education          491 non-null    object \n",
            " 6   Self_Employed      462 non-null    object \n",
            " 7   ApplicantIncome    491 non-null    int64  \n",
            " 8   CoapplicantIncome  491 non-null    float64\n",
            " 9   LoanAmount         475 non-null    float64\n",
            " 10  Loan_Amount_Term   478 non-null    float64\n",
            " 11  Credit_History     448 non-null    float64\n",
            " 12  Property_Area      491 non-null    object \n",
            " 13  Loan_Status        491 non-null    int64  \n",
            "dtypes: float64(4), int64(3), object(7)\n",
            "memory usage: 53.8+ KB\n"
          ],
          "name": "stdout"
        }
      ]
    },
    {
      "cell_type": "code",
      "metadata": {
        "colab": {
          "base_uri": "https://localhost:8080/"
        },
        "id": "yEuAX66y1c7k",
        "outputId": "1ededa25-2728-4041-97a5-2b458f966b9a"
      },
      "source": [
        "loan_data.drop(columns=['Unnamed: 0', 'Loan_ID'], axis=1, inplace= True)\r\n",
        "test_data.drop('Loan_ID', axis=1, inplace= True)\r\n",
        "loan_data.isnull().sum()"
      ],
      "execution_count": null,
      "outputs": [
        {
          "output_type": "execute_result",
          "data": {
            "text/plain": [
              "Gender               10\n",
              "Married               1\n",
              "Dependents            9\n",
              "Education             0\n",
              "Self_Employed        29\n",
              "ApplicantIncome       0\n",
              "CoapplicantIncome     0\n",
              "LoanAmount           16\n",
              "Loan_Amount_Term     13\n",
              "Credit_History       43\n",
              "Property_Area         0\n",
              "Loan_Status           0\n",
              "dtype: int64"
            ]
          },
          "metadata": {
            "tags": []
          },
          "execution_count": 6
        }
      ]
    },
    {
      "cell_type": "markdown",
      "metadata": {
        "id": "loFPvfxME5-Q"
      },
      "source": [
        "#Filling up missing values"
      ]
    },
    {
      "cell_type": "code",
      "metadata": {
        "colab": {
          "base_uri": "https://localhost:8080/"
        },
        "id": "5Hd-IVQ-20rv",
        "outputId": "faea806b-e5df-4704-915d-469f42707334"
      },
      "source": [
        "loan_data['Gender'].value_counts()"
      ],
      "execution_count": null,
      "outputs": [
        {
          "output_type": "execute_result",
          "data": {
            "text/plain": [
              "Male      393\n",
              "Female     88\n",
              "Name: Gender, dtype: int64"
            ]
          },
          "metadata": {
            "tags": []
          },
          "execution_count": 7
        }
      ]
    },
    {
      "cell_type": "code",
      "metadata": {
        "id": "DPH4cSHR2PrG",
        "colab": {
          "base_uri": "https://localhost:8080/"
        },
        "outputId": "a19aa685-1139-47bc-dc76-8c5390da9079"
      },
      "source": [
        "loan_data['Gender']= loan_data['Gender'].apply(lambda x: 1 if x == 'Male' else 0)\r\n",
        "test_data['Gender']= test_data['Gender'].apply(lambda x: 1 if x == 'Male' else 0)\r\n",
        "loan_data['Gender'].isnull().sum()"
      ],
      "execution_count": null,
      "outputs": [
        {
          "output_type": "execute_result",
          "data": {
            "text/plain": [
              "0"
            ]
          },
          "metadata": {
            "tags": []
          },
          "execution_count": 8
        }
      ]
    },
    {
      "cell_type": "code",
      "metadata": {
        "colab": {
          "base_uri": "https://localhost:8080/"
        },
        "id": "4Z_RWOjC3t-S",
        "outputId": "c3c9685b-eb8a-4fd5-c39e-857ae2b8f295"
      },
      "source": [
        "loan_data['Married']= loan_data.Married.apply(lambda x: 1 if x == \"Yes\" else 0)\r\n",
        "test_data['Married']= test_data.Married.apply(lambda x: 1 if x == \"Yes\" else 0)\r\n",
        "\r\n",
        "loan_data['Married'].isnull().sum()"
      ],
      "execution_count": null,
      "outputs": [
        {
          "output_type": "execute_result",
          "data": {
            "text/plain": [
              "0"
            ]
          },
          "metadata": {
            "tags": []
          },
          "execution_count": 9
        }
      ]
    },
    {
      "cell_type": "code",
      "metadata": {
        "id": "5n4MJqrU7XHs"
      },
      "source": [
        "loan_data['Dependents']= loan_data.Dependents.astype('category')\r\n",
        "test_data['Dependents']= test_data.Dependents.astype('category')\r\n",
        "\r\n",
        "loan_data['Dependents'].fillna(\"0\", inplace = True)"
      ],
      "execution_count": null,
      "outputs": []
    },
    {
      "cell_type": "code",
      "metadata": {
        "colab": {
          "base_uri": "https://localhost:8080/"
        },
        "id": "-OSIpULR8XTc",
        "outputId": "32fbe3f5-2e70-4146-e010-47ca6d19ba2c"
      },
      "source": [
        "loan_data['Dependents'].value_counts()"
      ],
      "execution_count": null,
      "outputs": [
        {
          "output_type": "execute_result",
          "data": {
            "text/plain": [
              "0     285\n",
              "1      85\n",
              "2      78\n",
              "3+     43\n",
              "Name: Dependents, dtype: int64"
            ]
          },
          "metadata": {
            "tags": []
          },
          "execution_count": 11
        }
      ]
    },
    {
      "cell_type": "code",
      "metadata": {
        "colab": {
          "base_uri": "https://localhost:8080/"
        },
        "id": "s-8X2-x74Y9B",
        "outputId": "2d5dc53e-b24a-4afb-ecd2-d2e9d57748af"
      },
      "source": [
        "loan_data['Self_Employed'].value_counts()"
      ],
      "execution_count": null,
      "outputs": [
        {
          "output_type": "execute_result",
          "data": {
            "text/plain": [
              "No     398\n",
              "Yes     64\n",
              "Name: Self_Employed, dtype: int64"
            ]
          },
          "metadata": {
            "tags": []
          },
          "execution_count": 12
        }
      ]
    },
    {
      "cell_type": "code",
      "metadata": {
        "id": "4viv25cx8yY1"
      },
      "source": [
        "loan_data['Self_Employed'] = loan_data.Self_Employed.apply(lambda x: 1 if x == 'Yes' else 0)\r\n",
        "\r\n",
        "test_data['Self_Employed'] = test_data.Self_Employed.apply(lambda x: 1 if x == 'Yes' else 0)"
      ],
      "execution_count": null,
      "outputs": []
    },
    {
      "cell_type": "code",
      "metadata": {
        "id": "Ukk2gireCNzw"
      },
      "source": [
        "loan_data['LoanAmount'].fillna(loan_data['LoanAmount'].median(), inplace= True)\r\n",
        "loan_data['Loan_Amount_Term'].fillna(loan_data['Loan_Amount_Term'].mean(), inplace= True)\r\n",
        "\r\n",
        "test_data['LoanAmount'].fillna(test_data['LoanAmount'].median(), inplace= True)\r\n",
        "test_data['Loan_Amount_Term'].fillna(test_data['Loan_Amount_Term'].mean(), inplace= True)"
      ],
      "execution_count": null,
      "outputs": []
    },
    {
      "cell_type": "code",
      "metadata": {
        "colab": {
          "base_uri": "https://localhost:8080/"
        },
        "id": "Dz7wyrpQDqUh",
        "outputId": "dabd69c7-28bf-4f37-c7f1-84e44f56e870"
      },
      "source": [
        "loan_data['Credit_History'].value_counts()"
      ],
      "execution_count": null,
      "outputs": [
        {
          "output_type": "execute_result",
          "data": {
            "text/plain": [
              "1.0    380\n",
              "0.0     68\n",
              "Name: Credit_History, dtype: int64"
            ]
          },
          "metadata": {
            "tags": []
          },
          "execution_count": 15
        }
      ]
    },
    {
      "cell_type": "code",
      "metadata": {
        "id": "jQNndQgwEs5Z"
      },
      "source": [
        "loan_data['Credit_History'].fillna(1, inplace= True)\r\n",
        "\r\n",
        "test_data['Credit_History'].fillna(1, inplace= True)"
      ],
      "execution_count": null,
      "outputs": []
    },
    {
      "cell_type": "code",
      "metadata": {
        "colab": {
          "base_uri": "https://localhost:8080/"
        },
        "id": "HX96kPgmHqaZ",
        "outputId": "b65567fc-5e59-4c7b-f501-48617e2d147a"
      },
      "source": [
        "loan_data.isnull().sum()"
      ],
      "execution_count": null,
      "outputs": [
        {
          "output_type": "execute_result",
          "data": {
            "text/plain": [
              "Gender               0\n",
              "Married              0\n",
              "Dependents           0\n",
              "Education            0\n",
              "Self_Employed        0\n",
              "ApplicantIncome      0\n",
              "CoapplicantIncome    0\n",
              "LoanAmount           0\n",
              "Loan_Amount_Term     0\n",
              "Credit_History       0\n",
              "Property_Area        0\n",
              "Loan_Status          0\n",
              "dtype: int64"
            ]
          },
          "metadata": {
            "tags": []
          },
          "execution_count": 17
        }
      ]
    },
    {
      "cell_type": "markdown",
      "metadata": {
        "id": "KZsqnWKDFRGi"
      },
      "source": [
        "# Preparing data for One Hot Encoding"
      ]
    },
    {
      "cell_type": "code",
      "metadata": {
        "id": "vABgl8hWFXdW",
        "colab": {
          "base_uri": "https://localhost:8080/"
        },
        "outputId": "351cf412-6569-49d0-ac43-563b91794df2"
      },
      "source": [
        "loan_data.info()"
      ],
      "execution_count": null,
      "outputs": [
        {
          "output_type": "stream",
          "text": [
            "<class 'pandas.core.frame.DataFrame'>\n",
            "RangeIndex: 491 entries, 0 to 490\n",
            "Data columns (total 12 columns):\n",
            " #   Column             Non-Null Count  Dtype   \n",
            "---  ------             --------------  -----   \n",
            " 0   Gender             491 non-null    int64   \n",
            " 1   Married            491 non-null    int64   \n",
            " 2   Dependents         491 non-null    category\n",
            " 3   Education          491 non-null    object  \n",
            " 4   Self_Employed      491 non-null    int64   \n",
            " 5   ApplicantIncome    491 non-null    int64   \n",
            " 6   CoapplicantIncome  491 non-null    float64 \n",
            " 7   LoanAmount         491 non-null    float64 \n",
            " 8   Loan_Amount_Term   491 non-null    float64 \n",
            " 9   Credit_History     491 non-null    float64 \n",
            " 10  Property_Area      491 non-null    object  \n",
            " 11  Loan_Status        491 non-null    int64   \n",
            "dtypes: category(1), float64(4), int64(5), object(2)\n",
            "memory usage: 43.0+ KB\n"
          ],
          "name": "stdout"
        }
      ]
    },
    {
      "cell_type": "code",
      "metadata": {
        "id": "T5xma4GbH0uW"
      },
      "source": [
        "loan_data['Education']= loan_data.Education.apply(lambda x: 0 if x== 'Not Graduate' else 1)\r\n",
        "loan_data['Property_Area']= loan_data['Property_Area'].astype('category')\r\n",
        "\r\n",
        "test_data['Education']= test_data.Education.apply(lambda x: 0 if x== 'Not Graduate' else 1)\r\n",
        "test_data['Property_Area']= test_data['Property_Area'].astype('category')"
      ],
      "execution_count": null,
      "outputs": []
    },
    {
      "cell_type": "code",
      "metadata": {
        "colab": {
          "base_uri": "https://localhost:8080/",
          "height": 224
        },
        "id": "Cu6JQZA0IxoS",
        "outputId": "790d0422-2d36-4244-8dd7-adfe323fb40d"
      },
      "source": [
        "loan_data = pd.get_dummies(loan_data)\r\n",
        "\r\n",
        "test_data= pd.get_dummies(test_data)\r\n",
        "loan_data.head()"
      ],
      "execution_count": null,
      "outputs": [
        {
          "output_type": "execute_result",
          "data": {
            "text/html": [
              "<div>\n",
              "<style scoped>\n",
              "    .dataframe tbody tr th:only-of-type {\n",
              "        vertical-align: middle;\n",
              "    }\n",
              "\n",
              "    .dataframe tbody tr th {\n",
              "        vertical-align: top;\n",
              "    }\n",
              "\n",
              "    .dataframe thead th {\n",
              "        text-align: right;\n",
              "    }\n",
              "</style>\n",
              "<table border=\"1\" class=\"dataframe\">\n",
              "  <thead>\n",
              "    <tr style=\"text-align: right;\">\n",
              "      <th></th>\n",
              "      <th>Gender</th>\n",
              "      <th>Married</th>\n",
              "      <th>Education</th>\n",
              "      <th>Self_Employed</th>\n",
              "      <th>ApplicantIncome</th>\n",
              "      <th>CoapplicantIncome</th>\n",
              "      <th>LoanAmount</th>\n",
              "      <th>Loan_Amount_Term</th>\n",
              "      <th>Credit_History</th>\n",
              "      <th>Loan_Status</th>\n",
              "      <th>Dependents_0</th>\n",
              "      <th>Dependents_1</th>\n",
              "      <th>Dependents_2</th>\n",
              "      <th>Dependents_3+</th>\n",
              "      <th>Property_Area_Rural</th>\n",
              "      <th>Property_Area_Semiurban</th>\n",
              "      <th>Property_Area_Urban</th>\n",
              "    </tr>\n",
              "  </thead>\n",
              "  <tbody>\n",
              "    <tr>\n",
              "      <th>0</th>\n",
              "      <td>0</td>\n",
              "      <td>0</td>\n",
              "      <td>1</td>\n",
              "      <td>0</td>\n",
              "      <td>4547</td>\n",
              "      <td>0.0</td>\n",
              "      <td>115.0</td>\n",
              "      <td>360.000000</td>\n",
              "      <td>1.0</td>\n",
              "      <td>1</td>\n",
              "      <td>1</td>\n",
              "      <td>0</td>\n",
              "      <td>0</td>\n",
              "      <td>0</td>\n",
              "      <td>0</td>\n",
              "      <td>1</td>\n",
              "      <td>0</td>\n",
              "    </tr>\n",
              "    <tr>\n",
              "      <th>1</th>\n",
              "      <td>1</td>\n",
              "      <td>1</td>\n",
              "      <td>0</td>\n",
              "      <td>1</td>\n",
              "      <td>5703</td>\n",
              "      <td>0.0</td>\n",
              "      <td>130.0</td>\n",
              "      <td>360.000000</td>\n",
              "      <td>1.0</td>\n",
              "      <td>1</td>\n",
              "      <td>0</td>\n",
              "      <td>0</td>\n",
              "      <td>0</td>\n",
              "      <td>1</td>\n",
              "      <td>1</td>\n",
              "      <td>0</td>\n",
              "      <td>0</td>\n",
              "    </tr>\n",
              "    <tr>\n",
              "      <th>2</th>\n",
              "      <td>0</td>\n",
              "      <td>1</td>\n",
              "      <td>1</td>\n",
              "      <td>0</td>\n",
              "      <td>4333</td>\n",
              "      <td>2451.0</td>\n",
              "      <td>110.0</td>\n",
              "      <td>360.000000</td>\n",
              "      <td>1.0</td>\n",
              "      <td>0</td>\n",
              "      <td>1</td>\n",
              "      <td>0</td>\n",
              "      <td>0</td>\n",
              "      <td>0</td>\n",
              "      <td>0</td>\n",
              "      <td>0</td>\n",
              "      <td>1</td>\n",
              "    </tr>\n",
              "    <tr>\n",
              "      <th>3</th>\n",
              "      <td>1</td>\n",
              "      <td>1</td>\n",
              "      <td>0</td>\n",
              "      <td>1</td>\n",
              "      <td>4695</td>\n",
              "      <td>0.0</td>\n",
              "      <td>96.0</td>\n",
              "      <td>341.297071</td>\n",
              "      <td>1.0</td>\n",
              "      <td>1</td>\n",
              "      <td>1</td>\n",
              "      <td>0</td>\n",
              "      <td>0</td>\n",
              "      <td>0</td>\n",
              "      <td>0</td>\n",
              "      <td>0</td>\n",
              "      <td>1</td>\n",
              "    </tr>\n",
              "    <tr>\n",
              "      <th>4</th>\n",
              "      <td>1</td>\n",
              "      <td>1</td>\n",
              "      <td>1</td>\n",
              "      <td>0</td>\n",
              "      <td>6700</td>\n",
              "      <td>1750.0</td>\n",
              "      <td>230.0</td>\n",
              "      <td>300.000000</td>\n",
              "      <td>1.0</td>\n",
              "      <td>1</td>\n",
              "      <td>0</td>\n",
              "      <td>0</td>\n",
              "      <td>1</td>\n",
              "      <td>0</td>\n",
              "      <td>0</td>\n",
              "      <td>1</td>\n",
              "      <td>0</td>\n",
              "    </tr>\n",
              "  </tbody>\n",
              "</table>\n",
              "</div>"
            ],
            "text/plain": [
              "   Gender  Married  ...  Property_Area_Semiurban  Property_Area_Urban\n",
              "0       0        0  ...                        1                    0\n",
              "1       1        1  ...                        0                    0\n",
              "2       0        1  ...                        0                    1\n",
              "3       1        1  ...                        0                    1\n",
              "4       1        1  ...                        1                    0\n",
              "\n",
              "[5 rows x 17 columns]"
            ]
          },
          "metadata": {
            "tags": []
          },
          "execution_count": 20
        }
      ]
    },
    {
      "cell_type": "code",
      "metadata": {
        "id": "4OfP6S-WJCYQ"
      },
      "source": [
        "X= loan_data.drop('Loan_Status', axis=1)\r\n",
        "y= loan_data['Loan_Status']"
      ],
      "execution_count": null,
      "outputs": []
    },
    {
      "cell_type": "code",
      "metadata": {
        "id": "pxUxovvlJNUe"
      },
      "source": [
        "from sklearn.model_selection import train_test_split\r\n",
        "\r\n",
        "X_train, X_test, y_train, y_test= train_test_split(X,y, test_size= 0.2, random_state= 42)"
      ],
      "execution_count": null,
      "outputs": []
    },
    {
      "cell_type": "code",
      "metadata": {
        "colab": {
          "base_uri": "https://localhost:8080/"
        },
        "id": "UYe8AKj7gNlw",
        "outputId": "0b341aac-b2fb-4402-85f0-065902fcf397"
      },
      "source": [
        "from sklearn.linear_model import LogisticRegression\r\n",
        "\r\n",
        "model_LR= LogisticRegression()\r\n",
        "model_LR.fit(X_train, y_train)"
      ],
      "execution_count": null,
      "outputs": [
        {
          "output_type": "execute_result",
          "data": {
            "text/plain": [
              "LogisticRegression(C=1.0, class_weight=None, dual=False, fit_intercept=True,\n",
              "                   intercept_scaling=1, l1_ratio=None, max_iter=100,\n",
              "                   multi_class='auto', n_jobs=None, penalty='l2',\n",
              "                   random_state=None, solver='lbfgs', tol=0.0001, verbose=0,\n",
              "                   warm_start=False)"
            ]
          },
          "metadata": {
            "tags": []
          },
          "execution_count": 23
        }
      ]
    },
    {
      "cell_type": "code",
      "metadata": {
        "colab": {
          "base_uri": "https://localhost:8080/"
        },
        "id": "9cr89iMUgc34",
        "outputId": "47039131-f204-480f-e406-705e465f2e6f"
      },
      "source": [
        "from sklearn.model_selection import cross_val_score\r\n",
        "\r\n",
        "cross_val_score(model_LR, X_train,y_train, cv= 5)"
      ],
      "execution_count": null,
      "outputs": [
        {
          "output_type": "execute_result",
          "data": {
            "text/plain": [
              "array([0.81012658, 0.78481013, 0.78205128, 0.82051282, 0.76923077])"
            ]
          },
          "metadata": {
            "tags": []
          },
          "execution_count": 24
        }
      ]
    },
    {
      "cell_type": "code",
      "metadata": {
        "colab": {
          "base_uri": "https://localhost:8080/"
        },
        "id": "3XBTCKPfg2YP",
        "outputId": "b8557c3b-9613-4165-c477-c05456020f31"
      },
      "source": [
        "from sklearn.feature_selection import RFE\r\n",
        "\r\n",
        "LR= LogisticRegression()\r\n",
        "selector= RFE(LR, step=1)\r\n",
        "selector.fit(X_train, y_train)\r\n",
        "\r\n",
        "print(\"Number of features selected for the model to train on: {}\".format(selector.support_.sum()))\r\n",
        "print(\"\\n\")\r\n",
        "print(\"The ranking of all the features are as follows: \")\r\n",
        "selector.ranking_"
      ],
      "execution_count": null,
      "outputs": [
        {
          "output_type": "stream",
          "text": [
            "Number of features selected for the model to train on: 8\n",
            "\n",
            "\n",
            "The ranking of all the features are as follows: \n"
          ],
          "name": "stdout"
        },
        {
          "output_type": "execute_result",
          "data": {
            "text/plain": [
              "array([2, 1, 1, 3, 9, 8, 6, 7, 1, 5, 1, 1, 4, 1, 1, 1])"
            ]
          },
          "metadata": {
            "tags": []
          },
          "execution_count": 25
        }
      ]
    },
    {
      "cell_type": "code",
      "metadata": {
        "colab": {
          "base_uri": "https://localhost:8080/"
        },
        "id": "1kfPVkOQh9RD",
        "outputId": "1a7575f1-ed51-4070-ee93-afdd65e31d03"
      },
      "source": [
        "from sklearn.metrics import accuracy_score, f1_score\r\n",
        "\r\n",
        "y_pred_RFE= selector.predict(X_test)\r\n",
        "print(accuracy_score(y_pred_RFE, y_test))\r\n",
        "print(f1_score(y_pred_RFE, y_test))"
      ],
      "execution_count": null,
      "outputs": [
        {
          "output_type": "stream",
          "text": [
            "0.8282828282828283\n",
            "0.8843537414965986\n"
          ],
          "name": "stdout"
        }
      ]
    },
    {
      "cell_type": "code",
      "metadata": {
        "id": "4D1Fp1GFjUO_"
      },
      "source": [
        "prediction= selector.predict(test_data)\r\n",
        "prediction_df= pd.DataFrame(prediction, columns=['prediction'])\r\n",
        "prediction_df.to_csv('prediction.csv', index= False)"
      ],
      "execution_count": null,
      "outputs": []
    },
    {
      "cell_type": "code",
      "metadata": {
        "colab": {
          "base_uri": "https://localhost:8080/"
        },
        "id": "aXMIKxyslL3a",
        "outputId": "18a6c70e-f564-4648-8753-d0aa2a7ec3e4"
      },
      "source": [
        "from sklearn.tree import DecisionTreeClassifier\r\n",
        "from sklearn.model_selection import GridSearchCV\r\n",
        "\r\n",
        "DTC= DecisionTreeClassifier(random_state=1)\r\n",
        "params= {\r\n",
        "    'max_leaf_nodes': [2,5,7,10, 15, 20], \r\n",
        "    'min_samples_split': [2,3,4, 6, 8, 10], \r\n",
        "    'min_samples_leaf': [1,3,5,7],\r\n",
        "    'max_depth': [2,3,4,5,6]\r\n",
        "}\r\n",
        "\r\n",
        "GS= GridSearchCV(DTC, params, cv=3, n_jobs=-1, verbose=2)\r\n",
        "GS.fit(X_train,y_train)\r\n",
        "GS.best_params_"
      ],
      "execution_count": null,
      "outputs": [
        {
          "output_type": "stream",
          "text": [
            "Fitting 3 folds for each of 720 candidates, totalling 2160 fits\n"
          ],
          "name": "stdout"
        },
        {
          "output_type": "stream",
          "text": [
            "[Parallel(n_jobs=-1)]: Using backend LokyBackend with 2 concurrent workers.\n",
            "[Parallel(n_jobs=-1)]: Done 668 tasks      | elapsed:    2.6s\n",
            "[Parallel(n_jobs=-1)]: Done 2160 out of 2160 | elapsed:    8.0s finished\n"
          ],
          "name": "stderr"
        },
        {
          "output_type": "execute_result",
          "data": {
            "text/plain": [
              "{'max_depth': 2,\n",
              " 'max_leaf_nodes': 2,\n",
              " 'min_samples_leaf': 1,\n",
              " 'min_samples_split': 2}"
            ]
          },
          "metadata": {
            "tags": []
          },
          "execution_count": 29
        }
      ]
    },
    {
      "cell_type": "code",
      "metadata": {
        "colab": {
          "base_uri": "https://localhost:8080/"
        },
        "id": "iG83a2G6n3Eb",
        "outputId": "9cf73f78-377e-45c7-e54c-cb18740905b8"
      },
      "source": [
        "cross_val_score(GS, X_train, y_train, cv=5)"
      ],
      "execution_count": null,
      "outputs": [
        {
          "output_type": "stream",
          "text": [
            "Fitting 3 folds for each of 720 candidates, totalling 2160 fits\n"
          ],
          "name": "stdout"
        },
        {
          "output_type": "stream",
          "text": [
            "[Parallel(n_jobs=-1)]: Using backend LokyBackend with 2 concurrent workers.\n",
            "[Parallel(n_jobs=-1)]: Done 668 tasks      | elapsed:    2.4s\n",
            "[Parallel(n_jobs=-1)]: Done 2160 out of 2160 | elapsed:    7.6s finished\n",
            "[Parallel(n_jobs=-1)]: Using backend LokyBackend with 2 concurrent workers.\n"
          ],
          "name": "stderr"
        },
        {
          "output_type": "stream",
          "text": [
            "Fitting 3 folds for each of 720 candidates, totalling 2160 fits\n"
          ],
          "name": "stdout"
        },
        {
          "output_type": "stream",
          "text": [
            "[Parallel(n_jobs=-1)]: Done 668 tasks      | elapsed:    2.4s\n",
            "[Parallel(n_jobs=-1)]: Done 2160 out of 2160 | elapsed:    7.6s finished\n",
            "[Parallel(n_jobs=-1)]: Using backend LokyBackend with 2 concurrent workers.\n"
          ],
          "name": "stderr"
        },
        {
          "output_type": "stream",
          "text": [
            "Fitting 3 folds for each of 720 candidates, totalling 2160 fits\n"
          ],
          "name": "stdout"
        },
        {
          "output_type": "stream",
          "text": [
            "[Parallel(n_jobs=-1)]: Done 668 tasks      | elapsed:    2.4s\n",
            "[Parallel(n_jobs=-1)]: Done 2160 out of 2160 | elapsed:    7.8s finished\n",
            "[Parallel(n_jobs=-1)]: Using backend LokyBackend with 2 concurrent workers.\n"
          ],
          "name": "stderr"
        },
        {
          "output_type": "stream",
          "text": [
            "Fitting 3 folds for each of 720 candidates, totalling 2160 fits\n"
          ],
          "name": "stdout"
        },
        {
          "output_type": "stream",
          "text": [
            "[Parallel(n_jobs=-1)]: Done 668 tasks      | elapsed:    2.5s\n",
            "[Parallel(n_jobs=-1)]: Done 2160 out of 2160 | elapsed:    7.8s finished\n",
            "[Parallel(n_jobs=-1)]: Using backend LokyBackend with 2 concurrent workers.\n"
          ],
          "name": "stderr"
        },
        {
          "output_type": "stream",
          "text": [
            "Fitting 3 folds for each of 720 candidates, totalling 2160 fits\n"
          ],
          "name": "stdout"
        },
        {
          "output_type": "stream",
          "text": [
            "[Parallel(n_jobs=-1)]: Done 668 tasks      | elapsed:    2.5s\n",
            "[Parallel(n_jobs=-1)]: Done 2160 out of 2160 | elapsed:    7.7s finished\n"
          ],
          "name": "stderr"
        },
        {
          "output_type": "execute_result",
          "data": {
            "text/plain": [
              "array([0.82278481, 0.79746835, 0.78205128, 0.83333333, 0.80769231])"
            ]
          },
          "metadata": {
            "tags": []
          },
          "execution_count": 30
        }
      ]
    },
    {
      "cell_type": "code",
      "metadata": {
        "colab": {
          "base_uri": "https://localhost:8080/"
        },
        "id": "zsCs9Zm_oKwi",
        "outputId": "b77e9085-dcbd-463b-8aaa-0603bacb54b3"
      },
      "source": [
        "y_pred_DT= GS.predict(X_test)\r\n",
        "print(accuracy_score(y_pred_DT, y_test))\r\n",
        "f1_score(y_pred_DT, y_test)"
      ],
      "execution_count": null,
      "outputs": [
        {
          "output_type": "stream",
          "text": [
            "0.8282828282828283\n"
          ],
          "name": "stdout"
        },
        {
          "output_type": "execute_result",
          "data": {
            "text/plain": [
              "0.8843537414965986"
            ]
          },
          "metadata": {
            "tags": []
          },
          "execution_count": 31
        }
      ]
    },
    {
      "cell_type": "code",
      "metadata": {
        "id": "45EvDMJVoeJn"
      },
      "source": [
        "prediction2= GS.predict(test_data)\r\n",
        "prediction_df2= pd.DataFrame(prediction2, columns=['prediction'])\r\n",
        "prediction_df2.to_csv('prediction2.csv', index= False)"
      ],
      "execution_count": null,
      "outputs": []
    }
  ]
}